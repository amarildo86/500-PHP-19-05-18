{
  "nbformat": 4,
  "nbformat_minor": 0,
  "metadata": {
    "colab": {
      "name": "Credito.ipynb",
      "provenance": [],
      "collapsed_sections": [],
      "mount_file_id": "1CffDXfuaX7IGvcjpIiXFQ38TbEhSGKEE",
      "authorship_tag": "ABX9TyNMyS8S15Jjihv/L3NJdCXm",
      "include_colab_link": true
    },
    "kernelspec": {
      "name": "python3",
      "display_name": "Python 3"
    },
    "language_info": {
      "name": "python"
    },
    "accelerator": "GPU"
  },
  "cells": [
    {
      "cell_type": "markdown",
      "metadata": {
        "id": "view-in-github",
        "colab_type": "text"
      },
      "source": [
        "<a href=\"https://colab.research.google.com/github/amarildo86/500-PHP-19-05-18/blob/master/Credito.ipynb\" target=\"_parent\"><img src=\"https://colab.research.google.com/assets/colab-badge.svg\" alt=\"Open In Colab\"/></a>"
      ]
    },
    {
      "cell_type": "markdown",
      "source": [
        "Etapa 1: O time de Cartão de Crédito necessita de visibilidade sobre a performance do motor de aprovação do produto. \n",
        "<br>A Tabela CreditStatus possui o status atual dos clientes que fizeram o pedido do cartão de crédito. Considere os seguintes possíveis status: Reprovado (teve pedido do cartão de crédito recusado), Aprovado (teve pedido do cartão de crédito aprovado), Ativo (teve pedido do cartão de crédito aprovado e contratou o produto) e Bloqueado (contratou o cartão de crédito e está inadimplente)."
      ],
      "metadata": {
        "id": "PIiLeFKGHkcr"
      }
    },
    {
      "cell_type": "markdown",
      "source": [
        "---\n",
        "---"
      ],
      "metadata": {
        "id": "cnklhCkjGpxz"
      }
    },
    {
      "cell_type": "code",
      "source": [
        "#importação das bibliotecas necessárias\n",
        "import pandas as pd\n",
        "import numpy as np\n",
        "import seaborn as sns\n",
        "import matplotlib.pyplot as plt\n",
        "\n",
        "#importação da biblioteca que 'limpa' avisos desnecessários\n",
        "import warnings\n",
        "warnings.simplefilter('ignore')"
      ],
      "metadata": {
        "id": "uhBqGk45qvaV"
      },
      "execution_count": 77,
      "outputs": []
    },
    {
      "cell_type": "markdown",
      "source": [
        ""
      ],
      "metadata": {
        "id": "ccICWrzrOGLI"
      }
    },
    {
      "cell_type": "code",
      "source": [
        "#criação dos 3 datasets: client, credit e invoice\n",
        "client = pd.read_excel('/content/drive/MyDrive/case_business_analytics_v5.xlsx', sheet_name='Tabela_Client')\n",
        "credit_status = pd.read_excel('/content/drive/MyDrive/case_business_analytics_v5.xlsx', sheet_name='Tabela_CreditStatus')\n",
        "invoice_status = pd.read_excel('/content/drive/MyDrive/case_business_analytics_v5.xlsx', sheet_name='Tabela_InvoiceStatus')"
      ],
      "metadata": {
        "id": "zfeont6y1aSk"
      },
      "execution_count": 78,
      "outputs": []
    },
    {
      "cell_type": "code",
      "source": [
        "#primriras linhas do dataset client\n",
        "client.head(3)"
      ],
      "metadata": {
        "colab": {
          "base_uri": "https://localhost:8080/",
          "height": 143
        },
        "id": "qYbmyuCh2Ig0",
        "outputId": "e9a9fc42-49fd-4d86-b298-353f4e9c9232"
      },
      "execution_count": 79,
      "outputs": [
        {
          "output_type": "execute_result",
          "data": {
            "text/plain": [
              "   ClientId  Gender   Platform OSVersion AddressState  Birthdate  \\\n",
              "0      81.0    Male  iPhone+OS     9.3.2           SP 1991-04-24   \n",
              "1     159.0  Female  iPhone+OS     9.3.2           SP 1991-04-09   \n",
              "2     316.0    Male    Android     9.3.2           SP 1991-08-04   \n",
              "\n",
              "  CurrentStatus RegisterDate RegisterConclusionDate RegisterApprovalDate  \\\n",
              "0      Aprovado   2016-05-31                    NaT           2016-06-06   \n",
              "1      Aprovado   2016-07-05                    NaT           2016-08-24   \n",
              "2      Aprovado   2016-07-15                    NaT           2016-09-08   \n",
              "\n",
              "  FirstTransactionDate  PresumedIncome  \n",
              "0           2016-06-14         4161.75  \n",
              "1           2016-11-18         4225.12  \n",
              "2           2019-08-29        14233.47  "
            ],
            "text/html": [
              "\n",
              "  <div id=\"df-ed2d5ae8-42a0-4c2a-9181-ad150829da28\">\n",
              "    <div class=\"colab-df-container\">\n",
              "      <div>\n",
              "<style scoped>\n",
              "    .dataframe tbody tr th:only-of-type {\n",
              "        vertical-align: middle;\n",
              "    }\n",
              "\n",
              "    .dataframe tbody tr th {\n",
              "        vertical-align: top;\n",
              "    }\n",
              "\n",
              "    .dataframe thead th {\n",
              "        text-align: right;\n",
              "    }\n",
              "</style>\n",
              "<table border=\"1\" class=\"dataframe\">\n",
              "  <thead>\n",
              "    <tr style=\"text-align: right;\">\n",
              "      <th></th>\n",
              "      <th>ClientId</th>\n",
              "      <th>Gender</th>\n",
              "      <th>Platform</th>\n",
              "      <th>OSVersion</th>\n",
              "      <th>AddressState</th>\n",
              "      <th>Birthdate</th>\n",
              "      <th>CurrentStatus</th>\n",
              "      <th>RegisterDate</th>\n",
              "      <th>RegisterConclusionDate</th>\n",
              "      <th>RegisterApprovalDate</th>\n",
              "      <th>FirstTransactionDate</th>\n",
              "      <th>PresumedIncome</th>\n",
              "    </tr>\n",
              "  </thead>\n",
              "  <tbody>\n",
              "    <tr>\n",
              "      <th>0</th>\n",
              "      <td>81.0</td>\n",
              "      <td>Male</td>\n",
              "      <td>iPhone+OS</td>\n",
              "      <td>9.3.2</td>\n",
              "      <td>SP</td>\n",
              "      <td>1991-04-24</td>\n",
              "      <td>Aprovado</td>\n",
              "      <td>2016-05-31</td>\n",
              "      <td>NaT</td>\n",
              "      <td>2016-06-06</td>\n",
              "      <td>2016-06-14</td>\n",
              "      <td>4161.75</td>\n",
              "    </tr>\n",
              "    <tr>\n",
              "      <th>1</th>\n",
              "      <td>159.0</td>\n",
              "      <td>Female</td>\n",
              "      <td>iPhone+OS</td>\n",
              "      <td>9.3.2</td>\n",
              "      <td>SP</td>\n",
              "      <td>1991-04-09</td>\n",
              "      <td>Aprovado</td>\n",
              "      <td>2016-07-05</td>\n",
              "      <td>NaT</td>\n",
              "      <td>2016-08-24</td>\n",
              "      <td>2016-11-18</td>\n",
              "      <td>4225.12</td>\n",
              "    </tr>\n",
              "    <tr>\n",
              "      <th>2</th>\n",
              "      <td>316.0</td>\n",
              "      <td>Male</td>\n",
              "      <td>Android</td>\n",
              "      <td>9.3.2</td>\n",
              "      <td>SP</td>\n",
              "      <td>1991-08-04</td>\n",
              "      <td>Aprovado</td>\n",
              "      <td>2016-07-15</td>\n",
              "      <td>NaT</td>\n",
              "      <td>2016-09-08</td>\n",
              "      <td>2019-08-29</td>\n",
              "      <td>14233.47</td>\n",
              "    </tr>\n",
              "  </tbody>\n",
              "</table>\n",
              "</div>\n",
              "      <button class=\"colab-df-convert\" onclick=\"convertToInteractive('df-ed2d5ae8-42a0-4c2a-9181-ad150829da28')\"\n",
              "              title=\"Convert this dataframe to an interactive table.\"\n",
              "              style=\"display:none;\">\n",
              "        \n",
              "  <svg xmlns=\"http://www.w3.org/2000/svg\" height=\"24px\"viewBox=\"0 0 24 24\"\n",
              "       width=\"24px\">\n",
              "    <path d=\"M0 0h24v24H0V0z\" fill=\"none\"/>\n",
              "    <path d=\"M18.56 5.44l.94 2.06.94-2.06 2.06-.94-2.06-.94-.94-2.06-.94 2.06-2.06.94zm-11 1L8.5 8.5l.94-2.06 2.06-.94-2.06-.94L8.5 2.5l-.94 2.06-2.06.94zm10 10l.94 2.06.94-2.06 2.06-.94-2.06-.94-.94-2.06-.94 2.06-2.06.94z\"/><path d=\"M17.41 7.96l-1.37-1.37c-.4-.4-.92-.59-1.43-.59-.52 0-1.04.2-1.43.59L10.3 9.45l-7.72 7.72c-.78.78-.78 2.05 0 2.83L4 21.41c.39.39.9.59 1.41.59.51 0 1.02-.2 1.41-.59l7.78-7.78 2.81-2.81c.8-.78.8-2.07 0-2.86zM5.41 20L4 18.59l7.72-7.72 1.47 1.35L5.41 20z\"/>\n",
              "  </svg>\n",
              "      </button>\n",
              "      \n",
              "  <style>\n",
              "    .colab-df-container {\n",
              "      display:flex;\n",
              "      flex-wrap:wrap;\n",
              "      gap: 12px;\n",
              "    }\n",
              "\n",
              "    .colab-df-convert {\n",
              "      background-color: #E8F0FE;\n",
              "      border: none;\n",
              "      border-radius: 50%;\n",
              "      cursor: pointer;\n",
              "      display: none;\n",
              "      fill: #1967D2;\n",
              "      height: 32px;\n",
              "      padding: 0 0 0 0;\n",
              "      width: 32px;\n",
              "    }\n",
              "\n",
              "    .colab-df-convert:hover {\n",
              "      background-color: #E2EBFA;\n",
              "      box-shadow: 0px 1px 2px rgba(60, 64, 67, 0.3), 0px 1px 3px 1px rgba(60, 64, 67, 0.15);\n",
              "      fill: #174EA6;\n",
              "    }\n",
              "\n",
              "    [theme=dark] .colab-df-convert {\n",
              "      background-color: #3B4455;\n",
              "      fill: #D2E3FC;\n",
              "    }\n",
              "\n",
              "    [theme=dark] .colab-df-convert:hover {\n",
              "      background-color: #434B5C;\n",
              "      box-shadow: 0px 1px 3px 1px rgba(0, 0, 0, 0.15);\n",
              "      filter: drop-shadow(0px 1px 2px rgba(0, 0, 0, 0.3));\n",
              "      fill: #FFFFFF;\n",
              "    }\n",
              "  </style>\n",
              "\n",
              "      <script>\n",
              "        const buttonEl =\n",
              "          document.querySelector('#df-ed2d5ae8-42a0-4c2a-9181-ad150829da28 button.colab-df-convert');\n",
              "        buttonEl.style.display =\n",
              "          google.colab.kernel.accessAllowed ? 'block' : 'none';\n",
              "\n",
              "        async function convertToInteractive(key) {\n",
              "          const element = document.querySelector('#df-ed2d5ae8-42a0-4c2a-9181-ad150829da28');\n",
              "          const dataTable =\n",
              "            await google.colab.kernel.invokeFunction('convertToInteractive',\n",
              "                                                     [key], {});\n",
              "          if (!dataTable) return;\n",
              "\n",
              "          const docLinkHtml = 'Like what you see? Visit the ' +\n",
              "            '<a target=\"_blank\" href=https://colab.research.google.com/notebooks/data_table.ipynb>data table notebook</a>'\n",
              "            + ' to learn more about interactive tables.';\n",
              "          element.innerHTML = '';\n",
              "          dataTable['output_type'] = 'display_data';\n",
              "          await google.colab.output.renderOutput(dataTable, element);\n",
              "          const docLink = document.createElement('div');\n",
              "          docLink.innerHTML = docLinkHtml;\n",
              "          element.appendChild(docLink);\n",
              "        }\n",
              "      </script>\n",
              "    </div>\n",
              "  </div>\n",
              "  "
            ]
          },
          "metadata": {},
          "execution_count": 79
        }
      ]
    },
    {
      "cell_type": "code",
      "source": [
        "#primeiras linhas do dataset credit\n",
        "credit_status.head(3)"
      ],
      "metadata": {
        "colab": {
          "base_uri": "https://localhost:8080/",
          "height": 143
        },
        "id": "h5lewh4D2gma",
        "outputId": "fbf41d5b-4aed-401a-8ec1-3cc0700bd87d"
      },
      "execution_count": 80,
      "outputs": [
        {
          "output_type": "execute_result",
          "data": {
            "text/plain": [
              "   ClientId CreditStatus\n",
              "0    698350        Ativo\n",
              "1    817285        Ativo\n",
              "2    962167        Ativo"
            ],
            "text/html": [
              "\n",
              "  <div id=\"df-6fe28e3c-9615-424a-8c55-94f1f8cbfb90\">\n",
              "    <div class=\"colab-df-container\">\n",
              "      <div>\n",
              "<style scoped>\n",
              "    .dataframe tbody tr th:only-of-type {\n",
              "        vertical-align: middle;\n",
              "    }\n",
              "\n",
              "    .dataframe tbody tr th {\n",
              "        vertical-align: top;\n",
              "    }\n",
              "\n",
              "    .dataframe thead th {\n",
              "        text-align: right;\n",
              "    }\n",
              "</style>\n",
              "<table border=\"1\" class=\"dataframe\">\n",
              "  <thead>\n",
              "    <tr style=\"text-align: right;\">\n",
              "      <th></th>\n",
              "      <th>ClientId</th>\n",
              "      <th>CreditStatus</th>\n",
              "    </tr>\n",
              "  </thead>\n",
              "  <tbody>\n",
              "    <tr>\n",
              "      <th>0</th>\n",
              "      <td>698350</td>\n",
              "      <td>Ativo</td>\n",
              "    </tr>\n",
              "    <tr>\n",
              "      <th>1</th>\n",
              "      <td>817285</td>\n",
              "      <td>Ativo</td>\n",
              "    </tr>\n",
              "    <tr>\n",
              "      <th>2</th>\n",
              "      <td>962167</td>\n",
              "      <td>Ativo</td>\n",
              "    </tr>\n",
              "  </tbody>\n",
              "</table>\n",
              "</div>\n",
              "      <button class=\"colab-df-convert\" onclick=\"convertToInteractive('df-6fe28e3c-9615-424a-8c55-94f1f8cbfb90')\"\n",
              "              title=\"Convert this dataframe to an interactive table.\"\n",
              "              style=\"display:none;\">\n",
              "        \n",
              "  <svg xmlns=\"http://www.w3.org/2000/svg\" height=\"24px\"viewBox=\"0 0 24 24\"\n",
              "       width=\"24px\">\n",
              "    <path d=\"M0 0h24v24H0V0z\" fill=\"none\"/>\n",
              "    <path d=\"M18.56 5.44l.94 2.06.94-2.06 2.06-.94-2.06-.94-.94-2.06-.94 2.06-2.06.94zm-11 1L8.5 8.5l.94-2.06 2.06-.94-2.06-.94L8.5 2.5l-.94 2.06-2.06.94zm10 10l.94 2.06.94-2.06 2.06-.94-2.06-.94-.94-2.06-.94 2.06-2.06.94z\"/><path d=\"M17.41 7.96l-1.37-1.37c-.4-.4-.92-.59-1.43-.59-.52 0-1.04.2-1.43.59L10.3 9.45l-7.72 7.72c-.78.78-.78 2.05 0 2.83L4 21.41c.39.39.9.59 1.41.59.51 0 1.02-.2 1.41-.59l7.78-7.78 2.81-2.81c.8-.78.8-2.07 0-2.86zM5.41 20L4 18.59l7.72-7.72 1.47 1.35L5.41 20z\"/>\n",
              "  </svg>\n",
              "      </button>\n",
              "      \n",
              "  <style>\n",
              "    .colab-df-container {\n",
              "      display:flex;\n",
              "      flex-wrap:wrap;\n",
              "      gap: 12px;\n",
              "    }\n",
              "\n",
              "    .colab-df-convert {\n",
              "      background-color: #E8F0FE;\n",
              "      border: none;\n",
              "      border-radius: 50%;\n",
              "      cursor: pointer;\n",
              "      display: none;\n",
              "      fill: #1967D2;\n",
              "      height: 32px;\n",
              "      padding: 0 0 0 0;\n",
              "      width: 32px;\n",
              "    }\n",
              "\n",
              "    .colab-df-convert:hover {\n",
              "      background-color: #E2EBFA;\n",
              "      box-shadow: 0px 1px 2px rgba(60, 64, 67, 0.3), 0px 1px 3px 1px rgba(60, 64, 67, 0.15);\n",
              "      fill: #174EA6;\n",
              "    }\n",
              "\n",
              "    [theme=dark] .colab-df-convert {\n",
              "      background-color: #3B4455;\n",
              "      fill: #D2E3FC;\n",
              "    }\n",
              "\n",
              "    [theme=dark] .colab-df-convert:hover {\n",
              "      background-color: #434B5C;\n",
              "      box-shadow: 0px 1px 3px 1px rgba(0, 0, 0, 0.15);\n",
              "      filter: drop-shadow(0px 1px 2px rgba(0, 0, 0, 0.3));\n",
              "      fill: #FFFFFF;\n",
              "    }\n",
              "  </style>\n",
              "\n",
              "      <script>\n",
              "        const buttonEl =\n",
              "          document.querySelector('#df-6fe28e3c-9615-424a-8c55-94f1f8cbfb90 button.colab-df-convert');\n",
              "        buttonEl.style.display =\n",
              "          google.colab.kernel.accessAllowed ? 'block' : 'none';\n",
              "\n",
              "        async function convertToInteractive(key) {\n",
              "          const element = document.querySelector('#df-6fe28e3c-9615-424a-8c55-94f1f8cbfb90');\n",
              "          const dataTable =\n",
              "            await google.colab.kernel.invokeFunction('convertToInteractive',\n",
              "                                                     [key], {});\n",
              "          if (!dataTable) return;\n",
              "\n",
              "          const docLinkHtml = 'Like what you see? Visit the ' +\n",
              "            '<a target=\"_blank\" href=https://colab.research.google.com/notebooks/data_table.ipynb>data table notebook</a>'\n",
              "            + ' to learn more about interactive tables.';\n",
              "          element.innerHTML = '';\n",
              "          dataTable['output_type'] = 'display_data';\n",
              "          await google.colab.output.renderOutput(dataTable, element);\n",
              "          const docLink = document.createElement('div');\n",
              "          docLink.innerHTML = docLinkHtml;\n",
              "          element.appendChild(docLink);\n",
              "        }\n",
              "      </script>\n",
              "    </div>\n",
              "  </div>\n",
              "  "
            ]
          },
          "metadata": {},
          "execution_count": 80
        }
      ]
    },
    {
      "cell_type": "code",
      "source": [
        "#primeiras linhas do dataset invoice\n",
        "invoice_status.head(3)"
      ],
      "metadata": {
        "colab": {
          "base_uri": "https://localhost:8080/",
          "height": 143
        },
        "id": "B1Dc1yO82jcz",
        "outputId": "cc33ebd6-dd03-4d0f-d3c0-f711327eeaad"
      },
      "execution_count": 81,
      "outputs": [
        {
          "output_type": "execute_result",
          "data": {
            "text/plain": [
              "        Date  ClientId FirstInvoiceDate  InvoiceId InvoiceDueDate  \\\n",
              "0 2020-01-05      5503       2019-05-05     459297     2020-01-05   \n",
              "1 2019-10-05     11313       2019-07-05    1209407     2019-10-05   \n",
              "2 2019-09-25     26648       2019-04-25    1142564     2019-09-25   \n",
              "\n",
              "   OverdueDays InvoiceStatus  InvoiceValue  \n",
              "0            0       REGULAR        451.60  \n",
              "1            0       REGULAR          2.09  \n",
              "2            0       REGULAR        123.03  "
            ],
            "text/html": [
              "\n",
              "  <div id=\"df-f2dc21ef-d9de-4a4a-8f8e-426fa4711e3b\">\n",
              "    <div class=\"colab-df-container\">\n",
              "      <div>\n",
              "<style scoped>\n",
              "    .dataframe tbody tr th:only-of-type {\n",
              "        vertical-align: middle;\n",
              "    }\n",
              "\n",
              "    .dataframe tbody tr th {\n",
              "        vertical-align: top;\n",
              "    }\n",
              "\n",
              "    .dataframe thead th {\n",
              "        text-align: right;\n",
              "    }\n",
              "</style>\n",
              "<table border=\"1\" class=\"dataframe\">\n",
              "  <thead>\n",
              "    <tr style=\"text-align: right;\">\n",
              "      <th></th>\n",
              "      <th>Date</th>\n",
              "      <th>ClientId</th>\n",
              "      <th>FirstInvoiceDate</th>\n",
              "      <th>InvoiceId</th>\n",
              "      <th>InvoiceDueDate</th>\n",
              "      <th>OverdueDays</th>\n",
              "      <th>InvoiceStatus</th>\n",
              "      <th>InvoiceValue</th>\n",
              "    </tr>\n",
              "  </thead>\n",
              "  <tbody>\n",
              "    <tr>\n",
              "      <th>0</th>\n",
              "      <td>2020-01-05</td>\n",
              "      <td>5503</td>\n",
              "      <td>2019-05-05</td>\n",
              "      <td>459297</td>\n",
              "      <td>2020-01-05</td>\n",
              "      <td>0</td>\n",
              "      <td>REGULAR</td>\n",
              "      <td>451.60</td>\n",
              "    </tr>\n",
              "    <tr>\n",
              "      <th>1</th>\n",
              "      <td>2019-10-05</td>\n",
              "      <td>11313</td>\n",
              "      <td>2019-07-05</td>\n",
              "      <td>1209407</td>\n",
              "      <td>2019-10-05</td>\n",
              "      <td>0</td>\n",
              "      <td>REGULAR</td>\n",
              "      <td>2.09</td>\n",
              "    </tr>\n",
              "    <tr>\n",
              "      <th>2</th>\n",
              "      <td>2019-09-25</td>\n",
              "      <td>26648</td>\n",
              "      <td>2019-04-25</td>\n",
              "      <td>1142564</td>\n",
              "      <td>2019-09-25</td>\n",
              "      <td>0</td>\n",
              "      <td>REGULAR</td>\n",
              "      <td>123.03</td>\n",
              "    </tr>\n",
              "  </tbody>\n",
              "</table>\n",
              "</div>\n",
              "      <button class=\"colab-df-convert\" onclick=\"convertToInteractive('df-f2dc21ef-d9de-4a4a-8f8e-426fa4711e3b')\"\n",
              "              title=\"Convert this dataframe to an interactive table.\"\n",
              "              style=\"display:none;\">\n",
              "        \n",
              "  <svg xmlns=\"http://www.w3.org/2000/svg\" height=\"24px\"viewBox=\"0 0 24 24\"\n",
              "       width=\"24px\">\n",
              "    <path d=\"M0 0h24v24H0V0z\" fill=\"none\"/>\n",
              "    <path d=\"M18.56 5.44l.94 2.06.94-2.06 2.06-.94-2.06-.94-.94-2.06-.94 2.06-2.06.94zm-11 1L8.5 8.5l.94-2.06 2.06-.94-2.06-.94L8.5 2.5l-.94 2.06-2.06.94zm10 10l.94 2.06.94-2.06 2.06-.94-2.06-.94-.94-2.06-.94 2.06-2.06.94z\"/><path d=\"M17.41 7.96l-1.37-1.37c-.4-.4-.92-.59-1.43-.59-.52 0-1.04.2-1.43.59L10.3 9.45l-7.72 7.72c-.78.78-.78 2.05 0 2.83L4 21.41c.39.39.9.59 1.41.59.51 0 1.02-.2 1.41-.59l7.78-7.78 2.81-2.81c.8-.78.8-2.07 0-2.86zM5.41 20L4 18.59l7.72-7.72 1.47 1.35L5.41 20z\"/>\n",
              "  </svg>\n",
              "      </button>\n",
              "      \n",
              "  <style>\n",
              "    .colab-df-container {\n",
              "      display:flex;\n",
              "      flex-wrap:wrap;\n",
              "      gap: 12px;\n",
              "    }\n",
              "\n",
              "    .colab-df-convert {\n",
              "      background-color: #E8F0FE;\n",
              "      border: none;\n",
              "      border-radius: 50%;\n",
              "      cursor: pointer;\n",
              "      display: none;\n",
              "      fill: #1967D2;\n",
              "      height: 32px;\n",
              "      padding: 0 0 0 0;\n",
              "      width: 32px;\n",
              "    }\n",
              "\n",
              "    .colab-df-convert:hover {\n",
              "      background-color: #E2EBFA;\n",
              "      box-shadow: 0px 1px 2px rgba(60, 64, 67, 0.3), 0px 1px 3px 1px rgba(60, 64, 67, 0.15);\n",
              "      fill: #174EA6;\n",
              "    }\n",
              "\n",
              "    [theme=dark] .colab-df-convert {\n",
              "      background-color: #3B4455;\n",
              "      fill: #D2E3FC;\n",
              "    }\n",
              "\n",
              "    [theme=dark] .colab-df-convert:hover {\n",
              "      background-color: #434B5C;\n",
              "      box-shadow: 0px 1px 3px 1px rgba(0, 0, 0, 0.15);\n",
              "      filter: drop-shadow(0px 1px 2px rgba(0, 0, 0, 0.3));\n",
              "      fill: #FFFFFF;\n",
              "    }\n",
              "  </style>\n",
              "\n",
              "      <script>\n",
              "        const buttonEl =\n",
              "          document.querySelector('#df-f2dc21ef-d9de-4a4a-8f8e-426fa4711e3b button.colab-df-convert');\n",
              "        buttonEl.style.display =\n",
              "          google.colab.kernel.accessAllowed ? 'block' : 'none';\n",
              "\n",
              "        async function convertToInteractive(key) {\n",
              "          const element = document.querySelector('#df-f2dc21ef-d9de-4a4a-8f8e-426fa4711e3b');\n",
              "          const dataTable =\n",
              "            await google.colab.kernel.invokeFunction('convertToInteractive',\n",
              "                                                     [key], {});\n",
              "          if (!dataTable) return;\n",
              "\n",
              "          const docLinkHtml = 'Like what you see? Visit the ' +\n",
              "            '<a target=\"_blank\" href=https://colab.research.google.com/notebooks/data_table.ipynb>data table notebook</a>'\n",
              "            + ' to learn more about interactive tables.';\n",
              "          element.innerHTML = '';\n",
              "          dataTable['output_type'] = 'display_data';\n",
              "          await google.colab.output.renderOutput(dataTable, element);\n",
              "          const docLink = document.createElement('div');\n",
              "          docLink.innerHTML = docLinkHtml;\n",
              "          element.appendChild(docLink);\n",
              "        }\n",
              "      </script>\n",
              "    </div>\n",
              "  </div>\n",
              "  "
            ]
          },
          "metadata": {},
          "execution_count": 81
        }
      ]
    },
    {
      "cell_type": "markdown",
      "source": [
        "**Verificando valores nulos nos 3 datasets**"
      ],
      "metadata": {
        "id": "aLGIZkFzEZMc"
      }
    },
    {
      "cell_type": "code",
      "source": [
        "#setando o tamanho do gráfico\n",
        "plt.figure(figsize=(11, 3.5))\n",
        "\n",
        "#plotando o heatmap para mapear valores nulos\n",
        "sns.heatmap(client.isnull(), yticklabels=False, cbar=False, cmap='crest')"
      ],
      "metadata": {
        "colab": {
          "base_uri": "https://localhost:8080/",
          "height": 354
        },
        "id": "D7wOYMGqEgRj",
        "outputId": "5ff8710a-2ea8-4840-b990-79882102b1a2"
      },
      "execution_count": 82,
      "outputs": [
        {
          "output_type": "execute_result",
          "data": {
            "text/plain": [
              "<matplotlib.axes._subplots.AxesSubplot at 0x7fb44986de10>"
            ]
          },
          "metadata": {},
          "execution_count": 82
        },
        {
          "output_type": "display_data",
          "data": {
            "text/plain": [
              "<Figure size 792x252 with 1 Axes>"
            ],
            "image/png": "[encoded data removed]"
          },
          "metadata": {}
        }
      ]
    },
    {
      "cell_type": "code",
      "source": [
        "#contagem de valores nulos e ordenação\n",
        "client.isna().sum().sort_values(ascending=False)"
      ],
      "metadata": {
        "colab": {
          "base_uri": "https://localhost:8080/"
        },
        "id": "Ztb1zUT0FUkE",
        "outputId": "fa68b852-0390-4c19-b5b4-3b3d0d514547"
      },
      "execution_count": 83,
      "outputs": [
        {
          "output_type": "execute_result",
          "data": {
            "text/plain": [
              "FirstTransactionDate      30310\n",
              "ClientId                  18089\n",
              "RegisterApprovalDate      18089\n",
              "RegisterConclusionDate    13948\n",
              "OSVersion                  6781\n",
              "AddressState               3779\n",
              "Platform                   3511\n",
              "Birthdate                    30\n",
              "Gender                        0\n",
              "CurrentStatus                 0\n",
              "RegisterDate                  0\n",
              "PresumedIncome                0\n",
              "dtype: int64"
            ]
          },
          "metadata": {},
          "execution_count": 83
        }
      ]
    },
    {
      "cell_type": "code",
      "source": [
        "#setando o tamanho do gráfico\n",
        "plt.figure(figsize=(11, 3.5))\n",
        "\n",
        "#plotando o heatmap para mapear valores nulos\n",
        "sns.heatmap(credit_status.isnull(), yticklabels=False, cbar=False, cmap='crest')"
      ],
      "metadata": {
        "colab": {
          "base_uri": "https://localhost:8080/",
          "height": 256
        },
        "id": "0Bp2JzwlE1uc",
        "outputId": "125aab1a-9cd3-415c-f088-f51112d31ac4"
      },
      "execution_count": 84,
      "outputs": [
        {
          "output_type": "execute_result",
          "data": {
            "text/plain": [
              "<matplotlib.axes._subplots.AxesSubplot at 0x7fb442ea5590>"
            ]
          },
          "metadata": {},
          "execution_count": 84
        },
        {
          "output_type": "display_data",
          "data": {
            "text/plain": [
              "<Figure size 792x252 with 1 Axes>"
            ],
            "image/png": "[encoded data removed]"
          },
          "metadata": {}
        }
      ]
    },
    {
      "cell_type": "code",
      "source": [
        "#contagem de valores nulos e ordenação\n",
        "credit_status.isna().sum().sort_values(ascending=False)"
      ],
      "metadata": {
        "colab": {
          "base_uri": "https://localhost:8080/"
        },
        "id": "DHnjPXshGG-b",
        "outputId": "2933284c-e061-4839-b8dd-a7db3f8070e6"
      },
      "execution_count": 85,
      "outputs": [
        {
          "output_type": "execute_result",
          "data": {
            "text/plain": [
              "ClientId        0\n",
              "CreditStatus    0\n",
              "dtype: int64"
            ]
          },
          "metadata": {},
          "execution_count": 85
        }
      ]
    },
    {
      "cell_type": "code",
      "source": [
        "#setando o tamanho do gráfico\n",
        "plt.figure(figsize=(11, 3.5))\n",
        "\n",
        "#plotando o heatmap para mapear valores nulos\n",
        "sns.heatmap(invoice_status.isnull(), yticklabels=False, cbar=False, cmap='crest')"
      ],
      "metadata": {
        "colab": {
          "base_uri": "https://localhost:8080/",
          "height": 256
        },
        "id": "HhST0_JmE8wH",
        "outputId": "a47f365e-a1d1-483b-ffe7-ba9c8c98e8c8"
      },
      "execution_count": 86,
      "outputs": [
        {
          "output_type": "execute_result",
          "data": {
            "text/plain": [
              "<matplotlib.axes._subplots.AxesSubplot at 0x7fb43fb893d0>"
            ]
          },
          "metadata": {},
          "execution_count": 86
        },
        {
          "output_type": "display_data",
          "data": {
            "text/plain": [
              "<Figure size 792x252 with 1 Axes>"
            ],
            "image/png": "[encoded data removed]"
          },
          "metadata": {}
        }
      ]
    },
    {
      "cell_type": "code",
      "source": [
        "#contagem de valores nulos e ordenação\n",
        "invoice_status.isna().sum().sort_values(ascending=False)"
      ],
      "metadata": {
        "colab": {
          "base_uri": "https://localhost:8080/"
        },
        "id": "tnJhLbevGNwD",
        "outputId": "912c14ec-d6aa-46e2-b8bf-530942d3c978"
      },
      "execution_count": 87,
      "outputs": [
        {
          "output_type": "execute_result",
          "data": {
            "text/plain": [
              "Date                0\n",
              "ClientId            0\n",
              "FirstInvoiceDate    0\n",
              "InvoiceId           0\n",
              "InvoiceDueDate      0\n",
              "OverdueDays         0\n",
              "InvoiceStatus       0\n",
              "InvoiceValue        0\n",
              "dtype: int64"
            ]
          },
          "metadata": {},
          "execution_count": 87
        }
      ]
    },
    {
      "cell_type": "markdown",
      "source": [
        "*   **1.1: Qual a taxa de aprovação dos clientes? (i.e., qual o percentual de clientes aprovados)**\t\n",
        "*   **1.2: Quais características dos clientes apresentam maior correlação com a resposta de aprovação do motor de crédito?** "
      ],
      "metadata": {
        "id": "mRQA085XONZB"
      }
    },
    {
      "cell_type": "code",
      "source": [
        "#mostrar os valores distintos pra poder classificar mais um de uma categoria em \"Aprovado\"\n",
        "print(credit_status['CreditStatus'].unique())"
      ],
      "metadata": {
        "colab": {
          "base_uri": "https://localhost:8080/"
        },
        "id": "crfftcA63MVs",
        "outputId": "d5c73667-8bfe-46a8-f506-1fe11b4b8f42"
      },
      "execution_count": 88,
      "outputs": [
        {
          "output_type": "stream",
          "name": "stdout",
          "text": [
            "['Ativo' 'Reprovado' 'Bloqueado' 'Aprovado']\n"
          ]
        }
      ]
    },
    {
      "cell_type": "code",
      "source": [
        "#contagem de clientes em cada categoria 'CreditStatus'\n",
        "credit_status.groupby('CreditStatus')['ClientId'].count()"
      ],
      "metadata": {
        "colab": {
          "base_uri": "https://localhost:8080/"
        },
        "id": "JCnLKZv8_oC6",
        "outputId": "954bcd3a-d7df-4de3-e60a-b88213bd5e24"
      },
      "execution_count": 89,
      "outputs": [
        {
          "output_type": "execute_result",
          "data": {
            "text/plain": [
              "CreditStatus\n",
              "Aprovado       203\n",
              "Ativo        16749\n",
              "Bloqueado     2189\n",
              "Reprovado    15622\n",
              "Name: ClientId, dtype: int64"
            ]
          },
          "metadata": {},
          "execution_count": 89
        }
      ]
    },
    {
      "cell_type": "code",
      "source": [
        "# agrupar a categoria \"Ativo\" dentro de \"Aprovado\" para facilitar o cálculo\n",
        "conditions = [\n",
        "    (credit_status['CreditStatus'] == 'Ativo'),\n",
        "    (credit_status['CreditStatus'] == 'Reprovado'),\n",
        "    (credit_status['CreditStatus'] == 'Bloqueado'),\n",
        "    (credit_status['CreditStatus'] == 'Aprovado')]\n",
        "\n",
        "#valores ordenados que serão substítuidos\n",
        "values = ['Aprovado', 'Reprovado', 'Bloqueado', 'Aprovado']"
      ],
      "metadata": {
        "id": "S9nSD2D-489T"
      },
      "execution_count": 90,
      "outputs": []
    },
    {
      "cell_type": "code",
      "source": [
        "#aplicar a função pra susbtituir \"Ativo\" em \"Aprovado\"\n",
        "credit_status['Aprovacao'] = np.select(conditions, values)\n",
        "\n",
        "#contagem de clientes em cada nova categoria \"CreditStatus\"\n",
        "approve = credit_status.groupby('Aprovacao')['ClientId'].count()\n",
        "\n",
        "#exibir o resultado\n",
        "print(approve)"
      ],
      "metadata": {
        "colab": {
          "base_uri": "https://localhost:8080/"
        },
        "id": "7TGp0wJA9Xtz",
        "outputId": "f665d49f-b601-4664-d501-28991d9239c6"
      },
      "execution_count": 91,
      "outputs": [
        {
          "output_type": "stream",
          "name": "stdout",
          "text": [
            "Aprovacao\n",
            "Aprovado     16952\n",
            "Bloqueado     2189\n",
            "Reprovado    15622\n",
            "Name: ClientId, dtype: int64\n"
          ]
        }
      ]
    },
    {
      "cell_type": "code",
      "source": [
        "#cálculo da taxa de aprovação na visão geral\n",
        "taxa_aprovacao = approve[0] / approve.sum()\n",
        "print((np.round(taxa_aprovacao, 3) * 100), \"%\")"
      ],
      "metadata": {
        "colab": {
          "base_uri": "https://localhost:8080/"
        },
        "id": "jiZHAu8G-SwE",
        "outputId": "3b1973e5-2cf3-4f15-e02c-c2bfbb64f4c6"
      },
      "execution_count": 92,
      "outputs": [
        {
          "output_type": "stream",
          "name": "stdout",
          "text": [
            "48.8 %\n"
          ]
        }
      ]
    },
    {
      "cell_type": "markdown",
      "source": [
        "**1.1: Taxa de aprovação dos clientes = 48,8%**\n",
        "\n",
        "\n",
        "---\n",
        "---"
      ],
      "metadata": {
        "id": "UavBijLEQJZI"
      }
    },
    {
      "cell_type": "code",
      "source": [
        "#unindo os datasets credit e client\n",
        "motor_corr = pd.merge(credit_status, client, how='left', on='ClientId')\n",
        "\n",
        "#selecionando apenas as variáveis mais relevantes para fazer correlação\n",
        "motor_corr_clean = motor_corr[['CreditStatus', 'Aprovacao', 'Gender', 'Platform', 'OSVersion', 'AddressState', 'Birthdate', 'CurrentStatus', 'PresumedIncome', 'RegisterApprovalDate']]\n",
        "\n",
        "#visualizando as primeiras linhas\n",
        "motor_corr_clean.head(3)\n",
        "\n",
        "#construindo a variável idade\n",
        "motor_corr_clean['idade'] = motor_corr_clean.RegisterApprovalDate - motor_corr_clean.Birthdate\n",
        "\n",
        "#convertendo a variável idade para númerico\n",
        "motor_corr_clean['idade'] = (motor_corr_clean['idade'].dt.days / 365)\n",
        "\n",
        "#mostrando as primeiras linhas\n",
        "motor_corr_clean.head(3)"
      ],
      "metadata": {
        "colab": {
          "base_uri": "https://localhost:8080/",
          "height": 143
        },
        "id": "Rfv1bcafoNML",
        "outputId": "94797c2f-aef9-4b3b-cd45-c05bfb6f21d2"
      },
      "execution_count": 93,
      "outputs": [
        {
          "output_type": "execute_result",
          "data": {
            "text/plain": [
              "  CreditStatus Aprovacao  Gender Platform OSVersion AddressState  Birthdate  \\\n",
              "0        Ativo  Aprovado    Male  Android       7.0           PR 1990-10-23   \n",
              "1        Ativo  Aprovado  Female  Android       NaN           SC 1990-08-22   \n",
              "2        Ativo  Aprovado    Male  Android     8.0.0           SP 1984-01-09   \n",
              "\n",
              "  CurrentStatus  PresumedIncome RegisterApprovalDate      idade  \n",
              "0      Aprovado         1391.24           2018-10-16  28.000000  \n",
              "1      Aprovado         1227.42           2018-11-10  28.238356  \n",
              "2      Aprovado         4076.58           2018-12-16  34.958904  "
            ],
            "text/html": [
              "\n",
              "  <div id=\"df-ccc176d9-c549-434d-b2ea-68a7d5e97d4c\">\n",
              "    <div class=\"colab-df-container\">\n",
              "      <div>\n",
              "<style scoped>\n",
              "    .dataframe tbody tr th:only-of-type {\n",
              "        vertical-align: middle;\n",
              "    }\n",
              "\n",
              "    .dataframe tbody tr th {\n",
              "        vertical-align: top;\n",
              "    }\n",
              "\n",
              "    .dataframe thead th {\n",
              "        text-align: right;\n",
              "    }\n",
              "</style>\n",
              "<table border=\"1\" class=\"dataframe\">\n",
              "  <thead>\n",
              "    <tr style=\"text-align: right;\">\n",
              "      <th></th>\n",
              "      <th>CreditStatus</th>\n",
              "      <th>Aprovacao</th>\n",
              "      <th>Gender</th>\n",
              "      <th>Platform</th>\n",
              "      <th>OSVersion</th>\n",
              "      <th>AddressState</th>\n",
              "      <th>Birthdate</th>\n",
              "      <th>CurrentStatus</th>\n",
              "      <th>PresumedIncome</th>\n",
              "      <th>RegisterApprovalDate</th>\n",
              "      <th>idade</th>\n",
              "    </tr>\n",
              "  </thead>\n",
              "  <tbody>\n",
              "    <tr>\n",
              "      <th>0</th>\n",
              "      <td>Ativo</td>\n",
              "      <td>Aprovado</td>\n",
              "      <td>Male</td>\n",
              "      <td>Android</td>\n",
              "      <td>7.0</td>\n",
              "      <td>PR</td>\n",
              "      <td>1990-10-23</td>\n",
              "      <td>Aprovado</td>\n",
              "      <td>1391.24</td>\n",
              "      <td>2018-10-16</td>\n",
              "      <td>28.000000</td>\n",
              "    </tr>\n",
              "    <tr>\n",
              "      <th>1</th>\n",
              "      <td>Ativo</td>\n",
              "      <td>Aprovado</td>\n",
              "      <td>Female</td>\n",
              "      <td>Android</td>\n",
              "      <td>NaN</td>\n",
              "      <td>SC</td>\n",
              "      <td>1990-08-22</td>\n",
              "      <td>Aprovado</td>\n",
              "      <td>1227.42</td>\n",
              "      <td>2018-11-10</td>\n",
              "      <td>28.238356</td>\n",
              "    </tr>\n",
              "    <tr>\n",
              "      <th>2</th>\n",
              "      <td>Ativo</td>\n",
              "      <td>Aprovado</td>\n",
              "      <td>Male</td>\n",
              "      <td>Android</td>\n",
              "      <td>8.0.0</td>\n",
              "      <td>SP</td>\n",
              "      <td>1984-01-09</td>\n",
              "      <td>Aprovado</td>\n",
              "      <td>4076.58</td>\n",
              "      <td>2018-12-16</td>\n",
              "      <td>34.958904</td>\n",
              "    </tr>\n",
              "  </tbody>\n",
              "</table>\n",
              "</div>\n",
              "      <button class=\"colab-df-convert\" onclick=\"convertToInteractive('df-ccc176d9-c549-434d-b2ea-68a7d5e97d4c')\"\n",
              "              title=\"Convert this dataframe to an interactive table.\"\n",
              "              style=\"display:none;\">\n",
              "        \n",
              "  <svg xmlns=\"http://www.w3.org/2000/svg\" height=\"24px\"viewBox=\"0 0 24 24\"\n",
              "       width=\"24px\">\n",
              "    <path d=\"M0 0h24v24H0V0z\" fill=\"none\"/>\n",
              "    <path d=\"M18.56 5.44l.94 2.06.94-2.06 2.06-.94-2.06-.94-.94-2.06-.94 2.06-2.06.94zm-11 1L8.5 8.5l.94-2.06 2.06-.94-2.06-.94L8.5 2.5l-.94 2.06-2.06.94zm10 10l.94 2.06.94-2.06 2.06-.94-2.06-.94-.94-2.06-.94 2.06-2.06.94z\"/><path d=\"M17.41 7.96l-1.37-1.37c-.4-.4-.92-.59-1.43-.59-.52 0-1.04.2-1.43.59L10.3 9.45l-7.72 7.72c-.78.78-.78 2.05 0 2.83L4 21.41c.39.39.9.59 1.41.59.51 0 1.02-.2 1.41-.59l7.78-7.78 2.81-2.81c.8-.78.8-2.07 0-2.86zM5.41 20L4 18.59l7.72-7.72 1.47 1.35L5.41 20z\"/>\n",
              "  </svg>\n",
              "      </button>\n",
              "      \n",
              "  <style>\n",
              "    .colab-df-container {\n",
              "      display:flex;\n",
              "      flex-wrap:wrap;\n",
              "      gap: 12px;\n",
              "    }\n",
              "\n",
              "    .colab-df-convert {\n",
              "      background-color: #E8F0FE;\n",
              "      border: none;\n",
              "      border-radius: 50%;\n",
              "      cursor: pointer;\n",
              "      display: none;\n",
              "      fill: #1967D2;\n",
              "      height: 32px;\n",
              "      padding: 0 0 0 0;\n",
              "      width: 32px;\n",
              "    }\n",
              "\n",
              "    .colab-df-convert:hover {\n",
              "      background-color: #E2EBFA;\n",
              "      box-shadow: 0px 1px 2px rgba(60, 64, 67, 0.3), 0px 1px 3px 1px rgba(60, 64, 67, 0.15);\n",
              "      fill: #174EA6;\n",
              "    }\n",
              "\n",
              "    [theme=dark] .colab-df-convert {\n",
              "      background-color: #3B4455;\n",
              "      fill: #D2E3FC;\n",
              "    }\n",
              "\n",
              "    [theme=dark] .colab-df-convert:hover {\n",
              "      background-color: #434B5C;\n",
              "      box-shadow: 0px 1px 3px 1px rgba(0, 0, 0, 0.15);\n",
              "      filter: drop-shadow(0px 1px 2px rgba(0, 0, 0, 0.3));\n",
              "      fill: #FFFFFF;\n",
              "    }\n",
              "  </style>\n",
              "\n",
              "      <script>\n",
              "        const buttonEl =\n",
              "          document.querySelector('#df-ccc176d9-c549-434d-b2ea-68a7d5e97d4c button.colab-df-convert');\n",
              "        buttonEl.style.display =\n",
              "          google.colab.kernel.accessAllowed ? 'block' : 'none';\n",
              "\n",
              "        async function convertToInteractive(key) {\n",
              "          const element = document.querySelector('#df-ccc176d9-c549-434d-b2ea-68a7d5e97d4c');\n",
              "          const dataTable =\n",
              "            await google.colab.kernel.invokeFunction('convertToInteractive',\n",
              "                                                     [key], {});\n",
              "          if (!dataTable) return;\n",
              "\n",
              "          const docLinkHtml = 'Like what you see? Visit the ' +\n",
              "            '<a target=\"_blank\" href=https://colab.research.google.com/notebooks/data_table.ipynb>data table notebook</a>'\n",
              "            + ' to learn more about interactive tables.';\n",
              "          element.innerHTML = '';\n",
              "          dataTable['output_type'] = 'display_data';\n",
              "          await google.colab.output.renderOutput(dataTable, element);\n",
              "          const docLink = document.createElement('div');\n",
              "          docLink.innerHTML = docLinkHtml;\n",
              "          element.appendChild(docLink);\n",
              "        }\n",
              "      </script>\n",
              "    </div>\n",
              "  </div>\n",
              "  "
            ]
          },
          "metadata": {},
          "execution_count": 93
        }
      ]
    },
    {
      "cell_type": "code",
      "source": [
        "# agrupar a categoria \"Ativo\" dentro de \"Aprovado\" para facilitar o cálculo\n",
        "fx_idade_1 = motor_corr_clean.loc[(motor_corr_clean['idade'] <= 18)]\n",
        "fx_idade_1['fx_idade'] = '0-18'\n",
        "\n",
        "fx_idade_2 = motor_corr_clean.loc[(motor_corr_clean['idade'] > 18) & (motor_corr_clean['idade'] <= 26)]\n",
        "fx_idade_2['fx_idade'] = '19-26'\n",
        "\n",
        "fx_idade_3 = motor_corr_clean.loc[(motor_corr_clean['idade'] > 26) & (motor_corr_clean['idade'] <= 34)]\n",
        "fx_idade_3['fx_idade'] = '27-34'\n",
        "\n",
        "fx_idade_4 = motor_corr_clean.loc[(motor_corr_clean['idade'] > 34) & (motor_corr_clean['idade'] <= 42)]\n",
        "fx_idade_4['fx_idade'] = '35-42'\n",
        "\n",
        "fx_idade_5 = motor_corr_clean.loc[(motor_corr_clean['idade'] > 42) & (motor_corr_clean['idade'] <= 50)]\n",
        "fx_idade_5['fx_idade'] = '43-50'\n",
        "\n",
        "fx_idade_6 = motor_corr_clean.loc[(motor_corr_clean['idade'] > 50) & (motor_corr_clean['idade'] <= 58)]\n",
        "fx_idade_6['fx_idade'] = '51-58'\n",
        "\n",
        "fx_idade_7 = motor_corr_clean.loc[(motor_corr_clean['idade'] > 58)]\n",
        "fx_idade_7['fx_idade'] = 'maior que 58'\n",
        "\n",
        "novo_df = pd.concat([fx_idade_1, fx_idade_2, fx_idade_3, fx_idade_4, fx_idade_5, fx_idade_6, fx_idade_7])\n",
        "\n",
        "#plt.figure(figsize=(13, 6))\n",
        "#novo_df.groupby('fx_idade')['PresumedIncome'].mean().plot(kind='bar')"
      ],
      "metadata": {
        "id": "j9RQJgUhIN_o"
      },
      "execution_count": 94,
      "outputs": []
    },
    {
      "cell_type": "code",
      "source": [
        "# agrupar a categoria \"Ativo\" dentro de \"Aprovado\" para facilitar o cálculo\n",
        "conditions_1 = [\n",
        "    (novo_df['CreditStatus'] == 'Ativo'),\n",
        "    (novo_df['CreditStatus'] == 'Reprovado'),\n",
        "    (novo_df['CreditStatus'] == 'Bloqueado'),\n",
        "    (novo_df['CreditStatus'] == 'Aprovado')]\n",
        "\n",
        "#valores ordenados que serão substítuidos\n",
        "#values = [1, 2, 3, 4]\n",
        "values_v2 = [1, 0, 0, 1]\n",
        "\n",
        "#aplicar a função pra susbtituir \"Ativo\" em \"Aprovado\"\n",
        "#novo_df['CreditStatus_flg'] = np.select(conditions_1, values)\n",
        "novo_df['CreditStatus_flg'] = np.select(conditions_1, values_v2)"
      ],
      "metadata": {
        "id": "elsgAeLwaKc1"
      },
      "execution_count": 95,
      "outputs": []
    },
    {
      "cell_type": "code",
      "source": [
        "# agrupar a categoria \"Ativo\" dentro de \"Aprovado\" para facilitar o cálculo\n",
        "conditions_2 = [\n",
        "    (novo_df['fx_idade'] == '0-18'),\n",
        "    (novo_df['fx_idade'] == '19-26'),\n",
        "    (novo_df['fx_idade'] == '27-34'),\n",
        "    (novo_df['fx_idade'] == '35-42'),\n",
        "    (novo_df['fx_idade'] == '43-50'),\n",
        "    (novo_df['fx_idade'] == '51-58'),\n",
        "    (novo_df['fx_idade'] == 'maior que 58')]\n",
        "\n",
        "#valores ordenados que serão substítuidos\n",
        "values = [1, 2, 3, 4, 5, 6, 7]\n",
        "\n",
        "#aplicar a função pra susbtituir \"Ativo\" em \"Aprovado\"\n",
        "novo_df['fx_idade_flg'] = np.select(conditions_2, values)\n",
        "\n",
        "novo_df[['fx_idade_flg', 'CreditStatus_flg']].corr()"
      ],
      "metadata": {
        "colab": {
          "base_uri": "https://localhost:8080/",
          "height": 112
        },
        "id": "1ni1E7XDasVj",
        "outputId": "946a007c-f7ca-4c78-d6cf-8734580aea9f"
      },
      "execution_count": 96,
      "outputs": [
        {
          "output_type": "execute_result",
          "data": {
            "text/plain": [
              "                  fx_idade_flg  CreditStatus_flg\n",
              "fx_idade_flg           1.00000           0.10794\n",
              "CreditStatus_flg       0.10794           1.00000"
            ],
            "text/html": [
              "\n",
              "  <div id=\"df-fc7e8856-ff28-401c-b07d-f3012ec2fd5c\">\n",
              "    <div class=\"colab-df-container\">\n",
              "      <div>\n",
              "<style scoped>\n",
              "    .dataframe tbody tr th:only-of-type {\n",
              "        vertical-align: middle;\n",
              "    }\n",
              "\n",
              "    .dataframe tbody tr th {\n",
              "        vertical-align: top;\n",
              "    }\n",
              "\n",
              "    .dataframe thead th {\n",
              "        text-align: right;\n",
              "    }\n",
              "</style>\n",
              "<table border=\"1\" class=\"dataframe\">\n",
              "  <thead>\n",
              "    <tr style=\"text-align: right;\">\n",
              "      <th></th>\n",
              "      <th>fx_idade_flg</th>\n",
              "      <th>CreditStatus_flg</th>\n",
              "    </tr>\n",
              "  </thead>\n",
              "  <tbody>\n",
              "    <tr>\n",
              "      <th>fx_idade_flg</th>\n",
              "      <td>1.00000</td>\n",
              "      <td>0.10794</td>\n",
              "    </tr>\n",
              "    <tr>\n",
              "      <th>CreditStatus_flg</th>\n",
              "      <td>0.10794</td>\n",
              "      <td>1.00000</td>\n",
              "    </tr>\n",
              "  </tbody>\n",
              "</table>\n",
              "</div>\n",
              "      <button class=\"colab-df-convert\" onclick=\"convertToInteractive('df-fc7e8856-ff28-401c-b07d-f3012ec2fd5c')\"\n",
              "              title=\"Convert this dataframe to an interactive table.\"\n",
              "              style=\"display:none;\">\n",
              "        \n",
              "  <svg xmlns=\"http://www.w3.org/2000/svg\" height=\"24px\"viewBox=\"0 0 24 24\"\n",
              "       width=\"24px\">\n",
              "    <path d=\"M0 0h24v24H0V0z\" fill=\"none\"/>\n",
              "    <path d=\"M18.56 5.44l.94 2.06.94-2.06 2.06-.94-2.06-.94-.94-2.06-.94 2.06-2.06.94zm-11 1L8.5 8.5l.94-2.06 2.06-.94-2.06-.94L8.5 2.5l-.94 2.06-2.06.94zm10 10l.94 2.06.94-2.06 2.06-.94-2.06-.94-.94-2.06-.94 2.06-2.06.94z\"/><path d=\"M17.41 7.96l-1.37-1.37c-.4-.4-.92-.59-1.43-.59-.52 0-1.04.2-1.43.59L10.3 9.45l-7.72 7.72c-.78.78-.78 2.05 0 2.83L4 21.41c.39.39.9.59 1.41.59.51 0 1.02-.2 1.41-.59l7.78-7.78 2.81-2.81c.8-.78.8-2.07 0-2.86zM5.41 20L4 18.59l7.72-7.72 1.47 1.35L5.41 20z\"/>\n",
              "  </svg>\n",
              "      </button>\n",
              "      \n",
              "  <style>\n",
              "    .colab-df-container {\n",
              "      display:flex;\n",
              "      flex-wrap:wrap;\n",
              "      gap: 12px;\n",
              "    }\n",
              "\n",
              "    .colab-df-convert {\n",
              "      background-color: #E8F0FE;\n",
              "      border: none;\n",
              "      border-radius: 50%;\n",
              "      cursor: pointer;\n",
              "      display: none;\n",
              "      fill: #1967D2;\n",
              "      height: 32px;\n",
              "      padding: 0 0 0 0;\n",
              "      width: 32px;\n",
              "    }\n",
              "\n",
              "    .colab-df-convert:hover {\n",
              "      background-color: #E2EBFA;\n",
              "      box-shadow: 0px 1px 2px rgba(60, 64, 67, 0.3), 0px 1px 3px 1px rgba(60, 64, 67, 0.15);\n",
              "      fill: #174EA6;\n",
              "    }\n",
              "\n",
              "    [theme=dark] .colab-df-convert {\n",
              "      background-color: #3B4455;\n",
              "      fill: #D2E3FC;\n",
              "    }\n",
              "\n",
              "    [theme=dark] .colab-df-convert:hover {\n",
              "      background-color: #434B5C;\n",
              "      box-shadow: 0px 1px 3px 1px rgba(0, 0, 0, 0.15);\n",
              "      filter: drop-shadow(0px 1px 2px rgba(0, 0, 0, 0.3));\n",
              "      fill: #FFFFFF;\n",
              "    }\n",
              "  </style>\n",
              "\n",
              "      <script>\n",
              "        const buttonEl =\n",
              "          document.querySelector('#df-fc7e8856-ff28-401c-b07d-f3012ec2fd5c button.colab-df-convert');\n",
              "        buttonEl.style.display =\n",
              "          google.colab.kernel.accessAllowed ? 'block' : 'none';\n",
              "\n",
              "        async function convertToInteractive(key) {\n",
              "          const element = document.querySelector('#df-fc7e8856-ff28-401c-b07d-f3012ec2fd5c');\n",
              "          const dataTable =\n",
              "            await google.colab.kernel.invokeFunction('convertToInteractive',\n",
              "                                                     [key], {});\n",
              "          if (!dataTable) return;\n",
              "\n",
              "          const docLinkHtml = 'Like what you see? Visit the ' +\n",
              "            '<a target=\"_blank\" href=https://colab.research.google.com/notebooks/data_table.ipynb>data table notebook</a>'\n",
              "            + ' to learn more about interactive tables.';\n",
              "          element.innerHTML = '';\n",
              "          dataTable['output_type'] = 'display_data';\n",
              "          await google.colab.output.renderOutput(dataTable, element);\n",
              "          const docLink = document.createElement('div');\n",
              "          docLink.innerHTML = docLinkHtml;\n",
              "          element.appendChild(docLink);\n",
              "        }\n",
              "      </script>\n",
              "    </div>\n",
              "  </div>\n",
              "  "
            ]
          },
          "metadata": {},
          "execution_count": 96
        }
      ]
    },
    {
      "cell_type": "code",
      "source": [
        "novo_df['Gender'].unique()"
      ],
      "metadata": {
        "colab": {
          "base_uri": "https://localhost:8080/"
        },
        "id": "RG29_bq4dtd6",
        "outputId": "e3b3fe5b-09e1-464c-c40a-64a7d85825d2"
      },
      "execution_count": 97,
      "outputs": [
        {
          "output_type": "execute_result",
          "data": {
            "text/plain": [
              "array(['Female', 'Male', 'Unknown'], dtype=object)"
            ]
          },
          "metadata": {},
          "execution_count": 97
        }
      ]
    },
    {
      "cell_type": "code",
      "source": [
        "conditions_3 = [\n",
        "    (novo_df['Gender'] == 'Male'),\n",
        "    (novo_df['Gender'] == 'Female'),\n",
        "    (novo_df['Gender'] == 'Unknown')]\n",
        "\n",
        "#valores ordenados que serão substítuidos\n",
        "values = [1, 2, 3]\n",
        "\n",
        "#aplicar a função pra susbtituir \"Ativo\" em \"Aprovado\"\n",
        "novo_df['Gender_flg'] = np.select(conditions_3, values)\n",
        "\n",
        "novo_df[['Gender_flg', 'CreditStatus_flg']].corr()"
      ],
      "metadata": {
        "colab": {
          "base_uri": "https://localhost:8080/",
          "height": 112
        },
        "id": "fDGpujt0eonx",
        "outputId": "83c1c133-9027-4fc8-b73a-8570aa532dc4"
      },
      "execution_count": 98,
      "outputs": [
        {
          "output_type": "execute_result",
          "data": {
            "text/plain": [
              "                  Gender_flg  CreditStatus_flg\n",
              "Gender_flg          1.000000         -0.030154\n",
              "CreditStatus_flg   -0.030154          1.000000"
            ],
            "text/html": [
              "\n",
              "  <div id=\"df-7ecb90e6-e1a7-49cc-b65e-1b38e72fb531\">\n",
              "    <div class=\"colab-df-container\">\n",
              "      <div>\n",
              "<style scoped>\n",
              "    .dataframe tbody tr th:only-of-type {\n",
              "        vertical-align: middle;\n",
              "    }\n",
              "\n",
              "    .dataframe tbody tr th {\n",
              "        vertical-align: top;\n",
              "    }\n",
              "\n",
              "    .dataframe thead th {\n",
              "        text-align: right;\n",
              "    }\n",
              "</style>\n",
              "<table border=\"1\" class=\"dataframe\">\n",
              "  <thead>\n",
              "    <tr style=\"text-align: right;\">\n",
              "      <th></th>\n",
              "      <th>Gender_flg</th>\n",
              "      <th>CreditStatus_flg</th>\n",
              "    </tr>\n",
              "  </thead>\n",
              "  <tbody>\n",
              "    <tr>\n",
              "      <th>Gender_flg</th>\n",
              "      <td>1.000000</td>\n",
              "      <td>-0.030154</td>\n",
              "    </tr>\n",
              "    <tr>\n",
              "      <th>CreditStatus_flg</th>\n",
              "      <td>-0.030154</td>\n",
              "      <td>1.000000</td>\n",
              "    </tr>\n",
              "  </tbody>\n",
              "</table>\n",
              "</div>\n",
              "      <button class=\"colab-df-convert\" onclick=\"convertToInteractive('df-7ecb90e6-e1a7-49cc-b65e-1b38e72fb531')\"\n",
              "              title=\"Convert this dataframe to an interactive table.\"\n",
              "              style=\"display:none;\">\n",
              "        \n",
              "  <svg xmlns=\"http://www.w3.org/2000/svg\" height=\"24px\"viewBox=\"0 0 24 24\"\n",
              "       width=\"24px\">\n",
              "    <path d=\"M0 0h24v24H0V0z\" fill=\"none\"/>\n",
              "    <path d=\"M18.56 5.44l.94 2.06.94-2.06 2.06-.94-2.06-.94-.94-2.06-.94 2.06-2.06.94zm-11 1L8.5 8.5l.94-2.06 2.06-.94-2.06-.94L8.5 2.5l-.94 2.06-2.06.94zm10 10l.94 2.06.94-2.06 2.06-.94-2.06-.94-.94-2.06-.94 2.06-2.06.94z\"/><path d=\"M17.41 7.96l-1.37-1.37c-.4-.4-.92-.59-1.43-.59-.52 0-1.04.2-1.43.59L10.3 9.45l-7.72 7.72c-.78.78-.78 2.05 0 2.83L4 21.41c.39.39.9.59 1.41.59.51 0 1.02-.2 1.41-.59l7.78-7.78 2.81-2.81c.8-.78.8-2.07 0-2.86zM5.41 20L4 18.59l7.72-7.72 1.47 1.35L5.41 20z\"/>\n",
              "  </svg>\n",
              "      </button>\n",
              "      \n",
              "  <style>\n",
              "    .colab-df-container {\n",
              "      display:flex;\n",
              "      flex-wrap:wrap;\n",
              "      gap: 12px;\n",
              "    }\n",
              "\n",
              "    .colab-df-convert {\n",
              "      background-color: #E8F0FE;\n",
              "      border: none;\n",
              "      border-radius: 50%;\n",
              "      cursor: pointer;\n",
              "      display: none;\n",
              "      fill: #1967D2;\n",
              "      height: 32px;\n",
              "      padding: 0 0 0 0;\n",
              "      width: 32px;\n",
              "    }\n",
              "\n",
              "    .colab-df-convert:hover {\n",
              "      background-color: #E2EBFA;\n",
              "      box-shadow: 0px 1px 2px rgba(60, 64, 67, 0.3), 0px 1px 3px 1px rgba(60, 64, 67, 0.15);\n",
              "      fill: #174EA6;\n",
              "    }\n",
              "\n",
              "    [theme=dark] .colab-df-convert {\n",
              "      background-color: #3B4455;\n",
              "      fill: #D2E3FC;\n",
              "    }\n",
              "\n",
              "    [theme=dark] .colab-df-convert:hover {\n",
              "      background-color: #434B5C;\n",
              "      box-shadow: 0px 1px 3px 1px rgba(0, 0, 0, 0.15);\n",
              "      filter: drop-shadow(0px 1px 2px rgba(0, 0, 0, 0.3));\n",
              "      fill: #FFFFFF;\n",
              "    }\n",
              "  </style>\n",
              "\n",
              "      <script>\n",
              "        const buttonEl =\n",
              "          document.querySelector('#df-7ecb90e6-e1a7-49cc-b65e-1b38e72fb531 button.colab-df-convert');\n",
              "        buttonEl.style.display =\n",
              "          google.colab.kernel.accessAllowed ? 'block' : 'none';\n",
              "\n",
              "        async function convertToInteractive(key) {\n",
              "          const element = document.querySelector('#df-7ecb90e6-e1a7-49cc-b65e-1b38e72fb531');\n",
              "          const dataTable =\n",
              "            await google.colab.kernel.invokeFunction('convertToInteractive',\n",
              "                                                     [key], {});\n",
              "          if (!dataTable) return;\n",
              "\n",
              "          const docLinkHtml = 'Like what you see? Visit the ' +\n",
              "            '<a target=\"_blank\" href=https://colab.research.google.com/notebooks/data_table.ipynb>data table notebook</a>'\n",
              "            + ' to learn more about interactive tables.';\n",
              "          element.innerHTML = '';\n",
              "          dataTable['output_type'] = 'display_data';\n",
              "          await google.colab.output.renderOutput(dataTable, element);\n",
              "          const docLink = document.createElement('div');\n",
              "          docLink.innerHTML = docLinkHtml;\n",
              "          element.appendChild(docLink);\n",
              "        }\n",
              "      </script>\n",
              "    </div>\n",
              "  </div>\n",
              "  "
            ]
          },
          "metadata": {},
          "execution_count": 98
        }
      ]
    },
    {
      "cell_type": "code",
      "source": [
        "novo_df['Platform'].unique()"
      ],
      "metadata": {
        "colab": {
          "base_uri": "https://localhost:8080/"
        },
        "id": "CGVX3nPHfoWM",
        "outputId": "16285fda-f360-4467-b149-bbf0dd9255b3"
      },
      "execution_count": 99,
      "outputs": [
        {
          "output_type": "execute_result",
          "data": {
            "text/plain": [
              "array(['iPhone+OS', 'Android', nan], dtype=object)"
            ]
          },
          "metadata": {},
          "execution_count": 99
        }
      ]
    },
    {
      "cell_type": "code",
      "source": [
        "conditions_4 = [\n",
        "    (novo_df['Platform'] == 'iPhone+OS'),\n",
        "    (novo_df['Platform'] == 'Android'),\n",
        "    (novo_df['Platform'] == '')]\n",
        "\n",
        "#valores ordenados que serão substítuidos\n",
        "values = [1, 2, 3]\n",
        "\n",
        "#aplicar a função pra susbtituir \"Ativo\" em \"Aprovado\"\n",
        "novo_df['Platform_flg'] = np.select(conditions_4, values)\n",
        "\n",
        "novo_df[['Platform_flg', 'CreditStatus_flg']].corr()"
      ],
      "metadata": {
        "colab": {
          "base_uri": "https://localhost:8080/",
          "height": 112
        },
        "id": "7_9bQvmigF7Y",
        "outputId": "f818a068-664f-4c44-db82-67b345ccbd32"
      },
      "execution_count": 100,
      "outputs": [
        {
          "output_type": "execute_result",
          "data": {
            "text/plain": [
              "                  Platform_flg  CreditStatus_flg\n",
              "Platform_flg          1.000000         -0.052547\n",
              "CreditStatus_flg     -0.052547          1.000000"
            ],
            "text/html": [
              "\n",
              "  <div id=\"df-7943f7b3-d927-4bb9-9655-ba7e1a6fd093\">\n",
              "    <div class=\"colab-df-container\">\n",
              "      <div>\n",
              "<style scoped>\n",
              "    .dataframe tbody tr th:only-of-type {\n",
              "        vertical-align: middle;\n",
              "    }\n",
              "\n",
              "    .dataframe tbody tr th {\n",
              "        vertical-align: top;\n",
              "    }\n",
              "\n",
              "    .dataframe thead th {\n",
              "        text-align: right;\n",
              "    }\n",
              "</style>\n",
              "<table border=\"1\" class=\"dataframe\">\n",
              "  <thead>\n",
              "    <tr style=\"text-align: right;\">\n",
              "      <th></th>\n",
              "      <th>Platform_flg</th>\n",
              "      <th>CreditStatus_flg</th>\n",
              "    </tr>\n",
              "  </thead>\n",
              "  <tbody>\n",
              "    <tr>\n",
              "      <th>Platform_flg</th>\n",
              "      <td>1.000000</td>\n",
              "      <td>-0.052547</td>\n",
              "    </tr>\n",
              "    <tr>\n",
              "      <th>CreditStatus_flg</th>\n",
              "      <td>-0.052547</td>\n",
              "      <td>1.000000</td>\n",
              "    </tr>\n",
              "  </tbody>\n",
              "</table>\n",
              "</div>\n",
              "      <button class=\"colab-df-convert\" onclick=\"convertToInteractive('df-7943f7b3-d927-4bb9-9655-ba7e1a6fd093')\"\n",
              "              title=\"Convert this dataframe to an interactive table.\"\n",
              "              style=\"display:none;\">\n",
              "        \n",
              "  <svg xmlns=\"http://www.w3.org/2000/svg\" height=\"24px\"viewBox=\"0 0 24 24\"\n",
              "       width=\"24px\">\n",
              "    <path d=\"M0 0h24v24H0V0z\" fill=\"none\"/>\n",
              "    <path d=\"M18.56 5.44l.94 2.06.94-2.06 2.06-.94-2.06-.94-.94-2.06-.94 2.06-2.06.94zm-11 1L8.5 8.5l.94-2.06 2.06-.94-2.06-.94L8.5 2.5l-.94 2.06-2.06.94zm10 10l.94 2.06.94-2.06 2.06-.94-2.06-.94-.94-2.06-.94 2.06-2.06.94z\"/><path d=\"M17.41 7.96l-1.37-1.37c-.4-.4-.92-.59-1.43-.59-.52 0-1.04.2-1.43.59L10.3 9.45l-7.72 7.72c-.78.78-.78 2.05 0 2.83L4 21.41c.39.39.9.59 1.41.59.51 0 1.02-.2 1.41-.59l7.78-7.78 2.81-2.81c.8-.78.8-2.07 0-2.86zM5.41 20L4 18.59l7.72-7.72 1.47 1.35L5.41 20z\"/>\n",
              "  </svg>\n",
              "      </button>\n",
              "      \n",
              "  <style>\n",
              "    .colab-df-container {\n",
              "      display:flex;\n",
              "      flex-wrap:wrap;\n",
              "      gap: 12px;\n",
              "    }\n",
              "\n",
              "    .colab-df-convert {\n",
              "      background-color: #E8F0FE;\n",
              "      border: none;\n",
              "      border-radius: 50%;\n",
              "      cursor: pointer;\n",
              "      display: none;\n",
              "      fill: #1967D2;\n",
              "      height: 32px;\n",
              "      padding: 0 0 0 0;\n",
              "      width: 32px;\n",
              "    }\n",
              "\n",
              "    .colab-df-convert:hover {\n",
              "      background-color: #E2EBFA;\n",
              "      box-shadow: 0px 1px 2px rgba(60, 64, 67, 0.3), 0px 1px 3px 1px rgba(60, 64, 67, 0.15);\n",
              "      fill: #174EA6;\n",
              "    }\n",
              "\n",
              "    [theme=dark] .colab-df-convert {\n",
              "      background-color: #3B4455;\n",
              "      fill: #D2E3FC;\n",
              "    }\n",
              "\n",
              "    [theme=dark] .colab-df-convert:hover {\n",
              "      background-color: #434B5C;\n",
              "      box-shadow: 0px 1px 3px 1px rgba(0, 0, 0, 0.15);\n",
              "      filter: drop-shadow(0px 1px 2px rgba(0, 0, 0, 0.3));\n",
              "      fill: #FFFFFF;\n",
              "    }\n",
              "  </style>\n",
              "\n",
              "      <script>\n",
              "        const buttonEl =\n",
              "          document.querySelector('#df-7943f7b3-d927-4bb9-9655-ba7e1a6fd093 button.colab-df-convert');\n",
              "        buttonEl.style.display =\n",
              "          google.colab.kernel.accessAllowed ? 'block' : 'none';\n",
              "\n",
              "        async function convertToInteractive(key) {\n",
              "          const element = document.querySelector('#df-7943f7b3-d927-4bb9-9655-ba7e1a6fd093');\n",
              "          const dataTable =\n",
              "            await google.colab.kernel.invokeFunction('convertToInteractive',\n",
              "                                                     [key], {});\n",
              "          if (!dataTable) return;\n",
              "\n",
              "          const docLinkHtml = 'Like what you see? Visit the ' +\n",
              "            '<a target=\"_blank\" href=https://colab.research.google.com/notebooks/data_table.ipynb>data table notebook</a>'\n",
              "            + ' to learn more about interactive tables.';\n",
              "          element.innerHTML = '';\n",
              "          dataTable['output_type'] = 'display_data';\n",
              "          await google.colab.output.renderOutput(dataTable, element);\n",
              "          const docLink = document.createElement('div');\n",
              "          docLink.innerHTML = docLinkHtml;\n",
              "          element.appendChild(docLink);\n",
              "        }\n",
              "      </script>\n",
              "    </div>\n",
              "  </div>\n",
              "  "
            ]
          },
          "metadata": {},
          "execution_count": 100
        }
      ]
    },
    {
      "cell_type": "code",
      "source": [
        "novo_df['OSVersion'].unique()"
      ],
      "metadata": {
        "colab": {
          "base_uri": "https://localhost:8080/"
        },
        "id": "Mb7ATgWogrVZ",
        "outputId": "43bdad95-d540-43ea-f153-70bbb66e0dcd"
      },
      "execution_count": 101,
      "outputs": [
        {
          "output_type": "execute_result",
          "data": {
            "text/plain": [
              "array(['10.3.3', '7.0', '11.3.1', '6.0.1', '12.2', '11.4', 9, nan,\n",
              "       '7.1.1', '8.1.0', '8.0.0', '12.1', '13.1.3', '12.4', '5.1.1',\n",
              "       '13.1.2', '12.4.1', '11.1.2', '12.4.2', '6.0', '12.1.4', '10.2.1',\n",
              "       '5.0.2', '13.3', '7.1.2', '13.0', '10.0', '12.3.1', '5.1',\n",
              "       '12.1.2', '12.4.3', '11.4.1', '11.2.6', '4.4.2', '11.0', '10.1.1',\n",
              "       '13.2.3', '11.0.3', '12.1.1', '9.3.5', '10.3.1', '12.3.2', '5.0.1',\n",
              "       '1.0.7.2', '13.2', '4.4.4', '5.0', '11.2.5', '12.0.1', '12.0',\n",
              "       '4.2.2', '11.3', '10.3.2', '10.0.2', '11.2.1', '12.3', '9.3.2',\n",
              "       '4.3', '12.1.3', '11.1', '4.1.2', '12.4.4', '9.3.6', '10.3.4',\n",
              "       '10.2', '11.1.1', '1.0.8.2', '13.2.2', '11.0.1', '11.2.2', '10.1',\n",
              "       '1.0.8.1', '11.0.2', '13.1.1', '10.0.1', '13.1', '9.2.1', '9.3.4',\n",
              "       '4.4.3', '1.0.8', '11.2', '9.3', '9.0', '9.3.3', '10.3', '9.2',\n",
              "       '9.3.1', '7.1', 10, '8.1.0+++xXx_NoLimits_3.3', '6.1', '8.1',\n",
              "       '8.0'], dtype=object)"
            ]
          },
          "metadata": {},
          "execution_count": 101
        }
      ]
    },
    {
      "cell_type": "code",
      "source": [
        "conditions_6 = [\n",
        "    (novo_df['OSVersion'] == '10.3.3'),\n",
        "    (novo_df['OSVersion'] == '7.0'),\n",
        "    (novo_df['OSVersion'] == '11.3.1'),\n",
        "    (novo_df['OSVersion'] == '6.0.1'),\n",
        "    (novo_df['OSVersion'] == '12.2'),\n",
        "    (novo_df['OSVersion'] == '11.4'),\n",
        "    (novo_df['OSVersion'] == ''),\n",
        "    (novo_df['OSVersion'] == '7.1.1'),\n",
        "    (novo_df['OSVersion'] == '8.1.0'),\n",
        "    (novo_df['OSVersion'] == '8.0.0'),\n",
        "    (novo_df['OSVersion'] == '12.1'),\n",
        "    (novo_df['OSVersion'] == '13.1.3'),\n",
        "    (novo_df['OSVersion'] == '12.4'),\n",
        "    (novo_df['OSVersion'] == '5.1.1'),\n",
        "    (novo_df['OSVersion'] == '13.1.2'),\n",
        "    (novo_df['OSVersion'] == '12.4.1'),\n",
        "    (novo_df['OSVersion'] == '11.1.2'),\n",
        "    (novo_df['OSVersion'] == '12.4.2'),\n",
        "    (novo_df['OSVersion'] == '6.0'),\n",
        "    (novo_df['OSVersion'] == '12.1.4'),\n",
        "    (novo_df['OSVersion'] == '10.2.1'),\n",
        "    (novo_df['OSVersion'] == '5.0.2'),\n",
        "    (novo_df['OSVersion'] == '13.3'),\n",
        "    (novo_df['OSVersion'] == '7.1.2'),\n",
        "    (novo_df['OSVersion'] == '13.0'),\n",
        "    (novo_df['OSVersion'] == '10.0'),\n",
        "    (novo_df['OSVersion'] == '12.3.1'),\n",
        "    (novo_df['OSVersion'] == '5.1'),\n",
        "    (novo_df['OSVersion'] == '12.1.2'),\n",
        "    (novo_df['OSVersion'] == '12.4.3'),\n",
        "    (novo_df['OSVersion'] == '11.4.1'),\n",
        "    (novo_df['OSVersion'] == '11.2.6'),\n",
        "    (novo_df['OSVersion'] == '4.4.2'),\n",
        "    (novo_df['OSVersion'] == '11.0'),\n",
        "    (novo_df['OSVersion'] == '10.1.1'),\n",
        "    (novo_df['OSVersion'] == '13.2.3'),\n",
        "    (novo_df['OSVersion'] == '11.0.3'),\n",
        "    (novo_df['OSVersion'] == '12.1.1'),\n",
        "    (novo_df['OSVersion'] == '9.3.5'),\n",
        "    (novo_df['OSVersion'] == '10.3.1'),\n",
        "    (novo_df['OSVersion'] == '12.3.2'),\n",
        "    (novo_df['OSVersion'] == '5.0.1'),\n",
        "    (novo_df['OSVersion'] == '1.0.7.2'),\n",
        "    (novo_df['OSVersion'] == '13.2'),\n",
        "    (novo_df['OSVersion'] == '4.4.4'),\n",
        "    (novo_df['OSVersion'] == '5.0'),\n",
        "    (novo_df['OSVersion'] == '11.2.5'),\n",
        "    (novo_df['OSVersion'] == '12.0.1'),\n",
        "    (novo_df['OSVersion'] == '12.0'),\n",
        "    (novo_df['OSVersion'] == '4.2.2'),\n",
        "    (novo_df['OSVersion'] == '11.3'),\n",
        "    (novo_df['OSVersion'] == '10.3.2'),\n",
        "    (novo_df['OSVersion'] == '10.0.2'),\n",
        "    (novo_df['OSVersion'] == '11.2.1'),\n",
        "    (novo_df['OSVersion'] == '12.3'),\n",
        "    (novo_df['OSVersion'] == '9.3.2'),\n",
        "    (novo_df['OSVersion'] == '4.3'),\n",
        "    (novo_df['OSVersion'] == '12.1.3'),\n",
        "    (novo_df['OSVersion'] == '11.1'),\n",
        "    (novo_df['OSVersion'] == '4.1.2'),\n",
        "    (novo_df['OSVersion'] == '12.4.4'),\n",
        "    (novo_df['OSVersion'] == '9.3.6'),\n",
        "    (novo_df['OSVersion'] == '10.3.4'),\n",
        "    (novo_df['OSVersion'] == '10.2'),\n",
        "    (novo_df['OSVersion'] == '11.1.1'),\n",
        "    (novo_df['OSVersion'] == '1.0.8.2'),\n",
        "    (novo_df['OSVersion'] == '13.2.2'),\n",
        "    (novo_df['OSVersion'] == '11.0.1'),\n",
        "    (novo_df['OSVersion'] == '11.2.2'),\n",
        "    (novo_df['OSVersion'] == '10.1'),\n",
        "    (novo_df['OSVersion'] == '1.0.8.1'),\n",
        "    (novo_df['OSVersion'] == '11.0.2'),\n",
        "    (novo_df['OSVersion'] == '13.1.1'),\n",
        "    (novo_df['OSVersion'] == '10.0.1'),\n",
        "    (novo_df['OSVersion'] == '13.1'),\n",
        "    (novo_df['OSVersion'] == '9.2.1'),\n",
        "    (novo_df['OSVersion'] == '9.3.4'),\n",
        "    (novo_df['OSVersion'] == '4.4.3'),\n",
        "    (novo_df['OSVersion'] == '1.0.8'),\n",
        "    (novo_df['OSVersion'] == '11.2'),\n",
        "    (novo_df['OSVersion'] == '9.3'),\n",
        "    (novo_df['OSVersion'] == '9.0'),\n",
        "    (novo_df['OSVersion'] == '9.3.3'),\n",
        "    (novo_df['OSVersion'] == '10.3'),\n",
        "    (novo_df['OSVersion'] == '9.2'),\n",
        "    (novo_df['OSVersion'] == '9.3.1'),\n",
        "    (novo_df['OSVersion'] == '7.1'),\n",
        "    (novo_df['OSVersion'] == '10'),\n",
        "    (novo_df['OSVersion'] == '8.1.0+++xXx_NoLimits_3.3'),\n",
        "    (novo_df['OSVersion'] == '6.1'),\n",
        "    (novo_df['OSVersion'] == '8.1'),\n",
        "    (novo_df['OSVersion'] == '8.0')]\n",
        "\n",
        "values = [1, 2, 3, 4, 5, 6, 7, 8, 9, 10, 11, 12, 13, 14, 15, 16, 17, 18, 19, 20, 21, 22, 23, 24, 25, 26, 27, 28, 29, 30, 31, 32, 33, 34, 35, 36, 37, 38, 39, 40, 41, 42, 43, 44, 45, 46, 47, 48, 49, 50, 51, 52, 53, 54, 55, 56, 57, 58, 59, 60, 61, 62, 63, 64, 65, 66, 67, 68, 69, 70, 71, 72, 73, 74, 75, 76, 77, 78, 79, 80, 81, 82, 83, 84, 85, 86, 87, 88, 89, 90, 91, 92]\n",
        "\n",
        "novo_df['OSVersion_flg'] = np.select(conditions_6, values)\n"
      ],
      "metadata": {
        "colab": {
          "base_uri": "https://localhost:8080/",
          "height": 112
        },
        "id": "TTzZlPENllsQ",
        "outputId": "4069cce1-7dad-4bc4-d71c-b96ec3446294"
      },
      "execution_count": 102,
      "outputs": [
        {
          "output_type": "execute_result",
          "data": {
            "text/plain": [
              "                  OSVersion_flg  CreditStatus_flg\n",
              "OSVersion_flg          1.000000          0.020497\n",
              "CreditStatus_flg       0.020497          1.000000"
            ],
            "text/html": [
              "\n",
              "  <div id=\"df-11e9a949-3447-47fb-9fc2-3c37f8f9ad4c\">\n",
              "    <div class=\"colab-df-container\">\n",
              "      <div>\n",
              "<style scoped>\n",
              "    .dataframe tbody tr th:only-of-type {\n",
              "        vertical-align: middle;\n",
              "    }\n",
              "\n",
              "    .dataframe tbody tr th {\n",
              "        vertical-align: top;\n",
              "    }\n",
              "\n",
              "    .dataframe thead th {\n",
              "        text-align: right;\n",
              "    }\n",
              "</style>\n",
              "<table border=\"1\" class=\"dataframe\">\n",
              "  <thead>\n",
              "    <tr style=\"text-align: right;\">\n",
              "      <th></th>\n",
              "      <th>OSVersion_flg</th>\n",
              "      <th>CreditStatus_flg</th>\n",
              "    </tr>\n",
              "  </thead>\n",
              "  <tbody>\n",
              "    <tr>\n",
              "      <th>OSVersion_flg</th>\n",
              "      <td>1.000000</td>\n",
              "      <td>0.020497</td>\n",
              "    </tr>\n",
              "    <tr>\n",
              "      <th>CreditStatus_flg</th>\n",
              "      <td>0.020497</td>\n",
              "      <td>1.000000</td>\n",
              "    </tr>\n",
              "  </tbody>\n",
              "</table>\n",
              "</div>\n",
              "      <button class=\"colab-df-convert\" onclick=\"convertToInteractive('df-11e9a949-3447-47fb-9fc2-3c37f8f9ad4c')\"\n",
              "              title=\"Convert this dataframe to an interactive table.\"\n",
              "              style=\"display:none;\">\n",
              "        \n",
              "  <svg xmlns=\"http://www.w3.org/2000/svg\" height=\"24px\"viewBox=\"0 0 24 24\"\n",
              "       width=\"24px\">\n",
              "    <path d=\"M0 0h24v24H0V0z\" fill=\"none\"/>\n",
              "    <path d=\"M18.56 5.44l.94 2.06.94-2.06 2.06-.94-2.06-.94-.94-2.06-.94 2.06-2.06.94zm-11 1L8.5 8.5l.94-2.06 2.06-.94-2.06-.94L8.5 2.5l-.94 2.06-2.06.94zm10 10l.94 2.06.94-2.06 2.06-.94-2.06-.94-.94-2.06-.94 2.06-2.06.94z\"/><path d=\"M17.41 7.96l-1.37-1.37c-.4-.4-.92-.59-1.43-.59-.52 0-1.04.2-1.43.59L10.3 9.45l-7.72 7.72c-.78.78-.78 2.05 0 2.83L4 21.41c.39.39.9.59 1.41.59.51 0 1.02-.2 1.41-.59l7.78-7.78 2.81-2.81c.8-.78.8-2.07 0-2.86zM5.41 20L4 18.59l7.72-7.72 1.47 1.35L5.41 20z\"/>\n",
              "  </svg>\n",
              "      </button>\n",
              "      \n",
              "  <style>\n",
              "    .colab-df-container {\n",
              "      display:flex;\n",
              "      flex-wrap:wrap;\n",
              "      gap: 12px;\n",
              "    }\n",
              "\n",
              "    .colab-df-convert {\n",
              "      background-color: #E8F0FE;\n",
              "      border: none;\n",
              "      border-radius: 50%;\n",
              "      cursor: pointer;\n",
              "      display: none;\n",
              "      fill: #1967D2;\n",
              "      height: 32px;\n",
              "      padding: 0 0 0 0;\n",
              "      width: 32px;\n",
              "    }\n",
              "\n",
              "    .colab-df-convert:hover {\n",
              "      background-color: #E2EBFA;\n",
              "      box-shadow: 0px 1px 2px rgba(60, 64, 67, 0.3), 0px 1px 3px 1px rgba(60, 64, 67, 0.15);\n",
              "      fill: #174EA6;\n",
              "    }\n",
              "\n",
              "    [theme=dark] .colab-df-convert {\n",
              "      background-color: #3B4455;\n",
              "      fill: #D2E3FC;\n",
              "    }\n",
              "\n",
              "    [theme=dark] .colab-df-convert:hover {\n",
              "      background-color: #434B5C;\n",
              "      box-shadow: 0px 1px 3px 1px rgba(0, 0, 0, 0.15);\n",
              "      filter: drop-shadow(0px 1px 2px rgba(0, 0, 0, 0.3));\n",
              "      fill: #FFFFFF;\n",
              "    }\n",
              "  </style>\n",
              "\n",
              "      <script>\n",
              "        const buttonEl =\n",
              "          document.querySelector('#df-11e9a949-3447-47fb-9fc2-3c37f8f9ad4c button.colab-df-convert');\n",
              "        buttonEl.style.display =\n",
              "          google.colab.kernel.accessAllowed ? 'block' : 'none';\n",
              "\n",
              "        async function convertToInteractive(key) {\n",
              "          const element = document.querySelector('#df-11e9a949-3447-47fb-9fc2-3c37f8f9ad4c');\n",
              "          const dataTable =\n",
              "            await google.colab.kernel.invokeFunction('convertToInteractive',\n",
              "                                                     [key], {});\n",
              "          if (!dataTable) return;\n",
              "\n",
              "          const docLinkHtml = 'Like what you see? Visit the ' +\n",
              "            '<a target=\"_blank\" href=https://colab.research.google.com/notebooks/data_table.ipynb>data table notebook</a>'\n",
              "            + ' to learn more about interactive tables.';\n",
              "          element.innerHTML = '';\n",
              "          dataTable['output_type'] = 'display_data';\n",
              "          await google.colab.output.renderOutput(dataTable, element);\n",
              "          const docLink = document.createElement('div');\n",
              "          docLink.innerHTML = docLinkHtml;\n",
              "          element.appendChild(docLink);\n",
              "        }\n",
              "      </script>\n",
              "    </div>\n",
              "  </div>\n",
              "  "
            ]
          },
          "metadata": {},
          "execution_count": 102
        }
      ]
    },
    {
      "cell_type": "markdown",
      "source": [
        "**Correlação entre as variáveis de clientes e a resposta do motor**"
      ],
      "metadata": {
        "id": "NACXAvv1QGXj"
      }
    },
    {
      "cell_type": "code",
      "source": [
        "plt.figure(figsize=(8, 4.5))\n",
        "sns.heatmap(novo_df[['CreditStatus_flg', 'Gender_flg', 'fx_idade_flg', 'Platform_flg', 'OSVersion_flg']].corr(), annot=True)"
      ],
      "metadata": {
        "colab": {
          "base_uri": "https://localhost:8080/",
          "height": 399
        },
        "id": "5aNhmcOGP3AT",
        "outputId": "f9521d20-7f41-498c-b067-9c9e3c18aabe"
      },
      "execution_count": 172,
      "outputs": [
        {
          "output_type": "execute_result",
          "data": {
            "text/plain": [
              "<matplotlib.axes._subplots.AxesSubplot at 0x7fb4424e15d0>"
            ]
          },
          "metadata": {},
          "execution_count": 172
        },
        {
          "output_type": "display_data",
          "data": {
            "text/plain": [
              "<Figure size 576x324 with 2 Axes>"
            ],
            "image/png": "[encoded data removed]"
          },
          "metadata": {}
        }
      ]
    },
    {
      "cell_type": "code",
      "source": [
        "#criando uma cópia do dataset invoice\n",
        "inad_geral = invoice_status.copy()\n",
        "\n",
        "#excluindo faturas nulas que não compõem o indicador\n",
        "inad_geral_v1 = inad_geral.loc[(inad_geral['InvoiceValue'] != 0)]\n",
        "\n",
        "#aplicando a marcação de over30\n",
        "inad_geral_v1['Over'] = np.where(inad_geral_v1['OverdueDays'] >= 30, 'Sim', 'Não')\n",
        "\n",
        "inad_geral_v1 = inad_geral_v1.groupby('Over')['ClientId'].count()\n",
        "over_30_geral = inad_geral_v1[1] / inad_geral_v1.sum()\n",
        "\n",
        "print((np.round(over_30_geral, 3) * 100), \"%\")\n",
        "print('\\n')\n",
        "print(inad_geral_v1)"
      ],
      "metadata": {
        "colab": {
          "base_uri": "https://localhost:8080/"
        },
        "id": "8MWrxoJXJizz",
        "outputId": "8477d750-f50a-460d-b4e0-7160551640c9"
      },
      "execution_count": 103,
      "outputs": [
        {
          "output_type": "stream",
          "name": "stdout",
          "text": [
            "10.9 %\n",
            "\n",
            "\n",
            "Over\n",
            "Não    93931\n",
            "Sim    11494\n",
            "Name: ClientId, dtype: int64\n"
          ]
        }
      ]
    },
    {
      "cell_type": "markdown",
      "source": [
        "**2.1: Over 30 mob3 - visão geral = 10,9%**\n",
        "\n",
        "\n",
        "---\n",
        "---"
      ],
      "metadata": {
        "id": "GvopfyAhSin_"
      }
    },
    {
      "cell_type": "markdown",
      "source": [
        "**Over 30 - Safra Janeiro/19**"
      ],
      "metadata": {
        "id": "deD07nHRvDCG"
      }
    },
    {
      "cell_type": "code",
      "source": [
        "jan = invoice_status.loc[(invoice_status['FirstInvoiceDate'] >= '2019-01-01') & (invoice_status['FirstInvoiceDate'] <= '2019-01-31') \n",
        "                            & (invoice_status['InvoiceDueDate'] >= '2019-04-01') & (invoice_status['InvoiceDueDate'] <= '2019-04-30') & (invoice_status['InvoiceValue'] != 0)]\n",
        "\n",
        "inad_jan = pd.DataFrame()\n",
        "inad_jan['Over'] = np.where(jan['OverdueDays'] >= 30, 'Sim', 'Não')\n",
        "\n",
        "inad_jan = inad_jan.groupby('Over')['Over'].count()\n",
        "over_30_jan = inad_jan[1] / inad_jan.sum()\n",
        "\n",
        "print((np.round(over_30_jan, 3) * 100), \"%\")\n",
        "print('\\n')\n",
        "inad_jan"
      ],
      "metadata": {
        "colab": {
          "base_uri": "https://localhost:8080/"
        },
        "id": "neCRxd27QAr6",
        "outputId": "824cc048-9329-4a72-d266-7155e775664a"
      },
      "execution_count": 104,
      "outputs": [
        {
          "output_type": "stream",
          "name": "stdout",
          "text": [
            "10.7 %\n",
            "\n",
            "\n"
          ]
        },
        {
          "output_type": "execute_result",
          "data": {
            "text/plain": [
              "Over\n",
              "Não    646\n",
              "Sim     77\n",
              "Name: Over, dtype: int64"
            ]
          },
          "metadata": {},
          "execution_count": 104
        }
      ]
    },
    {
      "cell_type": "markdown",
      "source": [
        "**Over 30 - Safra Fevereiro/19**"
      ],
      "metadata": {
        "id": "NggXeXsdvMbu"
      }
    },
    {
      "cell_type": "code",
      "source": [
        "fev = invoice_status.loc[(invoice_status['FirstInvoiceDate'] >= '2019-02-01') & (invoice_status['FirstInvoiceDate'] <= '2019-02-28') \n",
        "                            & (invoice_status['InvoiceDueDate'] >= '2019-05-01') & (invoice_status['InvoiceDueDate'] <= '2019-05-31') & (invoice_status['InvoiceValue'] != 0)]\n",
        "\n",
        "inad_fev = pd.DataFrame()\n",
        "inad_fev['Over'] = np.where(fev['OverdueDays'] >= 30, 'Sim', 'Não')\n",
        "\n",
        "inad_fev = inad_fev.groupby('Over')['Over'].count()\n",
        "over_30_fev = inad_fev[1] / inad_fev.sum()\n",
        "\n",
        "print((np.round(over_30_fev, 3) * 100), \"%\")\n",
        "print('\\n')\n",
        "inad_fev"
      ],
      "metadata": {
        "colab": {
          "base_uri": "https://localhost:8080/"
        },
        "id": "BP9_juaTP4nA",
        "outputId": "159ecbfa-7965-4f0a-c22a-a065b5a6a0f8"
      },
      "execution_count": 105,
      "outputs": [
        {
          "output_type": "stream",
          "name": "stdout",
          "text": [
            "11.0 %\n",
            "\n",
            "\n"
          ]
        },
        {
          "output_type": "execute_result",
          "data": {
            "text/plain": [
              "Over\n",
              "Não    835\n",
              "Sim    103\n",
              "Name: Over, dtype: int64"
            ]
          },
          "metadata": {},
          "execution_count": 105
        }
      ]
    },
    {
      "cell_type": "markdown",
      "source": [
        "**Over 30 - Safra Março/19**"
      ],
      "metadata": {
        "id": "2Mt1s-X3vQ65"
      }
    },
    {
      "cell_type": "code",
      "source": [
        "mar = invoice_status.loc[(invoice_status['FirstInvoiceDate'] >= '2019-03-01') & (invoice_status['FirstInvoiceDate'] <= '2019-03-31') \n",
        "                            & (invoice_status['InvoiceDueDate'] >= '2019-06-01') & (invoice_status['InvoiceDueDate'] <= '2019-06-30') & (invoice_status['InvoiceValue'] != 0)]\n",
        "\n",
        "inad_mar = pd.DataFrame()\n",
        "inad_mar['Over'] = np.where(mar['OverdueDays'] >= 30, 'Sim', 'Não')\n",
        "\n",
        "inad_mar = inad_mar.groupby('Over')['Over'].count()\n",
        "over_30_mar = inad_mar[1] / inad_mar.sum()\n",
        "\n",
        "print((np.round(over_30_mar, 3) * 100), \"%\")\n",
        "print('\\n')\n",
        "inad_mar"
      ],
      "metadata": {
        "colab": {
          "base_uri": "https://localhost:8080/"
        },
        "id": "yyFXGWDRQLkG",
        "outputId": "457d8d45-adab-4386-ad2b-28bad42b1a91"
      },
      "execution_count": 106,
      "outputs": [
        {
          "output_type": "stream",
          "name": "stdout",
          "text": [
            "10.100000000000001 %\n",
            "\n",
            "\n"
          ]
        },
        {
          "output_type": "execute_result",
          "data": {
            "text/plain": [
              "Over\n",
              "Não    773\n",
              "Sim     87\n",
              "Name: Over, dtype: int64"
            ]
          },
          "metadata": {},
          "execution_count": 106
        }
      ]
    },
    {
      "cell_type": "markdown",
      "source": [
        "**Over 30 - Safra Abril/19**"
      ],
      "metadata": {
        "id": "iQg_pRCKvVCd"
      }
    },
    {
      "cell_type": "code",
      "source": [
        "abr = invoice_status.loc[(invoice_status['FirstInvoiceDate'] >= '2019-04-01') & (invoice_status['FirstInvoiceDate'] <= '2019-04-30') \n",
        "                            & (invoice_status['InvoiceDueDate'] >= '2019-07-01') & (invoice_status['InvoiceDueDate'] <= '2019-07-31') & (invoice_status['InvoiceValue'] != 0)]\n",
        "\n",
        "inad_abr = pd.DataFrame()\n",
        "inad_abr['Over'] = np.where(abr['OverdueDays'] >= 30, 'Sim', 'Não')\n",
        "\n",
        "inad_abr = inad_abr.groupby('Over')['Over'].count()\n",
        "over_30_abr = inad_abr[1] / inad_abr.sum()\n",
        "\n",
        "print((np.round(over_30_abr, 3) * 100), \"%\")\n",
        "print('\\n')\n",
        "inad_abr"
      ],
      "metadata": {
        "colab": {
          "base_uri": "https://localhost:8080/"
        },
        "id": "sygGXJHPSMyD",
        "outputId": "685b44bc-3dc6-4708-f070-851eaabb909a"
      },
      "execution_count": 107,
      "outputs": [
        {
          "output_type": "stream",
          "name": "stdout",
          "text": [
            "11.200000000000001 %\n",
            "\n",
            "\n"
          ]
        },
        {
          "output_type": "execute_result",
          "data": {
            "text/plain": [
              "Over\n",
              "Não    1035\n",
              "Sim     130\n",
              "Name: Over, dtype: int64"
            ]
          },
          "metadata": {},
          "execution_count": 107
        }
      ]
    },
    {
      "cell_type": "markdown",
      "source": [
        "**Over 30 - Safra Maio/19**"
      ],
      "metadata": {
        "id": "sJAB2-kLvXH1"
      }
    },
    {
      "cell_type": "code",
      "source": [
        "mai = invoice_status.loc[(invoice_status['FirstInvoiceDate'] >= '2019-05-01') & (invoice_status['FirstInvoiceDate'] <= '2019-05-31') \n",
        "                            & (invoice_status['InvoiceDueDate'] >= '2019-08-01') & (invoice_status['InvoiceDueDate'] <= '2019-08-31') & (invoice_status['InvoiceValue'] != 0)]\n",
        "\n",
        "inad_mai = pd.DataFrame()\n",
        "inad_mai['Over'] = np.where(mai['OverdueDays'] >= 30, 'Sim', 'Não')\n",
        "\n",
        "inad_mai = inad_mai.groupby('Over')['Over'].count()\n",
        "over_30_mai = inad_mai[1] / inad_mai.sum()\n",
        "\n",
        "print((np.round(over_30_mai, 3) * 100), \"%\")\n",
        "print('\\n')\n",
        "inad_mai"
      ],
      "metadata": {
        "colab": {
          "base_uri": "https://localhost:8080/"
        },
        "id": "Ji8GlXo2ovso",
        "outputId": "22a3bfde-3220-4aaf-fd12-8f3862f850e2"
      },
      "execution_count": 108,
      "outputs": [
        {
          "output_type": "stream",
          "name": "stdout",
          "text": [
            "25.1 %\n",
            "\n",
            "\n"
          ]
        },
        {
          "output_type": "execute_result",
          "data": {
            "text/plain": [
              "Over\n",
              "Não    1515\n",
              "Sim     507\n",
              "Name: Over, dtype: int64"
            ]
          },
          "metadata": {},
          "execution_count": 108
        }
      ]
    },
    {
      "cell_type": "markdown",
      "source": [
        "**Over 30 - Safra Junho/19**"
      ],
      "metadata": {
        "id": "bxiVQ9f7vZGy"
      }
    },
    {
      "cell_type": "code",
      "source": [
        "jun = invoice_status.loc[(invoice_status['FirstInvoiceDate'] >= '2019-06-01') & (invoice_status['FirstInvoiceDate'] <= '2019-06-30') \n",
        "                            & (invoice_status['InvoiceDueDate'] >= '2019-09-01') & (invoice_status['InvoiceDueDate'] <= '2019-09-30') & (invoice_status['InvoiceValue'] != 0)]\n",
        "\n",
        "inad_jun = pd.DataFrame()\n",
        "inad_jun['Over'] = np.where(jun['OverdueDays'] >= 30, 'Sim', 'Não')\n",
        "\n",
        "inad_jun = inad_jun.groupby('Over')['Over'].count()\n",
        "over_30_jun = inad_jun[1] / inad_jun.sum()\n",
        "\n",
        "print((np.round(over_30_jun, 3) * 100), \"%\")\n",
        "print('\\n')\n",
        "inad_jun"
      ],
      "metadata": {
        "colab": {
          "base_uri": "https://localhost:8080/"
        },
        "id": "D5SCCrEepr0Y",
        "outputId": "ce0a64e4-5112-491c-b56c-26a82b8e6003"
      },
      "execution_count": 109,
      "outputs": [
        {
          "output_type": "stream",
          "name": "stdout",
          "text": [
            "24.4 %\n",
            "\n",
            "\n"
          ]
        },
        {
          "output_type": "execute_result",
          "data": {
            "text/plain": [
              "Over\n",
              "Não    1495\n",
              "Sim     482\n",
              "Name: Over, dtype: int64"
            ]
          },
          "metadata": {},
          "execution_count": 109
        }
      ]
    },
    {
      "cell_type": "markdown",
      "source": [
        "**Over 30 - Safra Julho/19**"
      ],
      "metadata": {
        "id": "kHbzYM5OvbBN"
      }
    },
    {
      "cell_type": "code",
      "source": [
        "jul = invoice_status.loc[(invoice_status['FirstInvoiceDate'] >= '2019-07-01') & (invoice_status['FirstInvoiceDate'] <= '2019-07-31') \n",
        "                            & (invoice_status['InvoiceDueDate'] >= '2019-10-01') & (invoice_status['InvoiceDueDate'] <= '2019-10-31') & (invoice_status['InvoiceValue'] != 0)]\n",
        "\n",
        "inad_jul = pd.DataFrame()\n",
        "inad_jul['Over'] = np.where(jul['OverdueDays'] >= 30, 'Sim', 'Não')\n",
        "\n",
        "inad_jul = inad_jul.groupby('Over')['Over'].count()\n",
        "over_30_jul = inad_jul[1] / inad_jul.sum()\n",
        "\n",
        "print((np.round(over_30_jul, 3) * 100), \"%\")\n",
        "print('\\n')\n",
        "inad_jul"
      ],
      "metadata": {
        "colab": {
          "base_uri": "https://localhost:8080/"
        },
        "id": "VGJ7VoMkTaZi",
        "outputId": "d98d85fb-1380-4f83-c443-54707f78bfc1"
      },
      "execution_count": 110,
      "outputs": [
        {
          "output_type": "stream",
          "name": "stdout",
          "text": [
            "11.3 %\n",
            "\n",
            "\n"
          ]
        },
        {
          "output_type": "execute_result",
          "data": {
            "text/plain": [
              "Over\n",
              "Não    1171\n",
              "Sim     149\n",
              "Name: Over, dtype: int64"
            ]
          },
          "metadata": {},
          "execution_count": 110
        }
      ]
    },
    {
      "cell_type": "markdown",
      "source": [
        "**Over 30 - Safra Agosto/19**"
      ],
      "metadata": {
        "id": "sRXoLJaSvdPG"
      }
    },
    {
      "cell_type": "code",
      "source": [
        "ago = invoice_status.loc[(invoice_status['FirstInvoiceDate'] >= '2019-08-01') & (invoice_status['FirstInvoiceDate'] <= '2019-08-31') \n",
        "                            & (invoice_status['InvoiceDueDate'] >= '2019-11-01') & (invoice_status['InvoiceDueDate'] <= '2019-11-30') & (invoice_status['InvoiceValue'] != 0)]\n",
        "\n",
        "inad_ago = pd.DataFrame()\n",
        "inad_ago['Over'] = np.where(ago['OverdueDays'] >= 30, 'Sim', 'Não')\n",
        "\n",
        "inad_ago = inad_ago.groupby('Over')['Over'].count()\n",
        "over_30_ago = inad_ago[1] / inad_ago.sum()\n",
        "\n",
        "print((np.round(over_30_ago, 3) * 100), \"%\")\n",
        "print('\\n')\n",
        "inad_ago"
      ],
      "metadata": {
        "colab": {
          "base_uri": "https://localhost:8080/"
        },
        "id": "4XBfSAKmTn2b",
        "outputId": "a2ccf2ec-783b-410a-f573-ee12e95a0f6b"
      },
      "execution_count": 111,
      "outputs": [
        {
          "output_type": "stream",
          "name": "stdout",
          "text": [
            "8.1 %\n",
            "\n",
            "\n"
          ]
        },
        {
          "output_type": "execute_result",
          "data": {
            "text/plain": [
              "Over\n",
              "Não    1235\n",
              "Sim     109\n",
              "Name: Over, dtype: int64"
            ]
          },
          "metadata": {},
          "execution_count": 111
        }
      ]
    },
    {
      "cell_type": "markdown",
      "source": [
        "**Over 30 - Safra Setembro/19**"
      ],
      "metadata": {
        "id": "MhRorrAYvhNw"
      }
    },
    {
      "cell_type": "code",
      "source": [
        "sep = invoice_status.loc[(invoice_status['FirstInvoiceDate'] >= '2019-09-01') & (invoice_status['FirstInvoiceDate'] <= '2019-09-30') \n",
        "                            & (invoice_status['InvoiceDueDate'] >= '2019-12-01') & (invoice_status['InvoiceDueDate'] <= '2019-12-31') & (invoice_status['InvoiceValue'] != 0)]\n",
        "\n",
        "inad_set = pd.DataFrame()\n",
        "inad_set['Over'] = np.where(sep['OverdueDays'] >= 30, 'Sim', 'Não')\n",
        "\n",
        "inad_set = inad_set.groupby('Over')['Over'].count()\n",
        "over_30_set = inad_set[1] / inad_set.sum()\n",
        "\n",
        "print((np.round(over_30_set, 3) * 100), \"%\")\n",
        "print('\\n')\n",
        "inad_set"
      ],
      "metadata": {
        "colab": {
          "base_uri": "https://localhost:8080/"
        },
        "id": "dPZ85ye6UAX4",
        "outputId": "e5b228f5-b227-4688-d16b-8cbdb576a666"
      },
      "execution_count": 112,
      "outputs": [
        {
          "output_type": "stream",
          "name": "stdout",
          "text": [
            "10.0 %\n",
            "\n",
            "\n"
          ]
        },
        {
          "output_type": "execute_result",
          "data": {
            "text/plain": [
              "Over\n",
              "Não    1543\n",
              "Sim     171\n",
              "Name: Over, dtype: int64"
            ]
          },
          "metadata": {},
          "execution_count": 112
        }
      ]
    },
    {
      "cell_type": "markdown",
      "source": [
        "**Over 30 - Safra Outubro/19**"
      ],
      "metadata": {
        "id": "cKcWYUgMvkrZ"
      }
    },
    {
      "cell_type": "code",
      "source": [
        "out = invoice_status.loc[(invoice_status['FirstInvoiceDate'] >= '2019-10-01') & (invoice_status['FirstInvoiceDate'] <= '2019-10-31') \n",
        "                            & (invoice_status['InvoiceDueDate'] >= '2020-01-01') & (invoice_status['InvoiceDueDate'] <= '2020-01-31') & (invoice_status['InvoiceValue'] != 0)]\n",
        "\n",
        "inad_out = pd.DataFrame()\n",
        "inad_out['Over'] = np.where(out['OverdueDays'] >= 30, 'Sim', 'Não')\n",
        "\n",
        "inad_out = inad_out.groupby('Over')['Over'].count()\n",
        "over_30_out = inad_out[1] / inad_out.sum()\n",
        "\n",
        "print((np.round(over_30_out, 3) * 100), \"%\")\n",
        "print('\\n')\n",
        "inad_out"
      ],
      "metadata": {
        "colab": {
          "base_uri": "https://localhost:8080/"
        },
        "id": "4dq8S5QNU45a",
        "outputId": "c7b8956e-9a09-4054-c946-6954e08aac54"
      },
      "execution_count": 113,
      "outputs": [
        {
          "output_type": "stream",
          "name": "stdout",
          "text": [
            "10.9 %\n",
            "\n",
            "\n"
          ]
        },
        {
          "output_type": "execute_result",
          "data": {
            "text/plain": [
              "Over\n",
              "Não    327\n",
              "Sim     40\n",
              "Name: Over, dtype: int64"
            ]
          },
          "metadata": {},
          "execution_count": 113
        }
      ]
    },
    {
      "cell_type": "markdown",
      "source": [
        "**Gráfico: Over 30 mob3 Por Safra**"
      ],
      "metadata": {
        "id": "FVNXAhE792n7"
      }
    },
    {
      "cell_type": "code",
      "source": [
        "#construção da tabela de forma ordenada\n",
        "x = ['01-2019', '02-2019', '03-2019', '04-2019', '05-2019', '06-2019', '07-2019', '08-2019', '09-2019', '10-2019']\n",
        "y = [over_30_jan, over_30_fev, over_30_fev, over_30_abr, over_30_mai, over_30_jun, over_30_jul, over_30_ago, over_30_set, over_30_out]\n",
        "\n",
        "#ajuste do estilo do gráfico\n",
        "sns.set_theme(style=\"darkgrid\")\n",
        "\n",
        "#configuração do tamanho do gráfico\n",
        "plt.figure(figsize=(15, 4.5))\n",
        "\n",
        "#construção da linha over_30 mob3 fixa (10% é a visão geral do indicador)\n",
        "plt.axhline(y=over_30_geral, color='r', linestyle='dotted')\n",
        "\n",
        "#plotando o lineplot\n",
        "sns.lineplot(x, y)\n",
        "\n",
        "#função para exibir os rótulos\n",
        "for x,y in zip(x,y):\n",
        "\n",
        "    label = \"{:.2f}\".format(y)\n",
        "\n",
        "    plt.annotate(label, # this is the text\n",
        "                 (x,y), # these are the coordinates to position the label\n",
        "                 textcoords=\"offset points\", # how to position the text\n",
        "                 xytext=(0,10), # distance from text to points (x,y)\n",
        "                 ha='center') # horizontal alignment can be left, right or center\n",
        "\n",
        "#plotar o gráfico\n",
        "plt.show()"
      ],
      "metadata": {
        "colab": {
          "base_uri": "https://localhost:8080/",
          "height": 307
        },
        "id": "W42-0LCF3K7q",
        "outputId": "df9bd20c-7449-4000-b110-1174f6bdd85c"
      },
      "execution_count": 114,
      "outputs": [
        {
          "output_type": "display_data",
          "data": {
            "text/plain": [
              "<Figure size 1080x324 with 1 Axes>"
            ],
            "image/png": "[encoded data removed]"
          },
          "metadata": {}
        }
      ]
    },
    {
      "cell_type": "markdown",
      "source": [
        "**2.1: Over 30 mob3 - visão safras**\n",
        "\n",
        "\n",
        "*   Jan/19 = 10,7%\n",
        "*   Fev/19 = 11,0%\n",
        "*   Mar/19 = 10,1%\n",
        "*   Abr/19 = 11,2%\n",
        "*   Mai/19 = 25,1%\n",
        "*   Jun/19 = 24,4%\n",
        "*   Jul/19 = 11,3%\n",
        "*   Ago/19 = 8,1%\n",
        "*   Set/19 = 10,0%\n",
        "*   Out/19 = 10,9%\n",
        "\n",
        "\n"
      ],
      "metadata": {
        "id": "YlrmdtAsj6o6"
      }
    },
    {
      "cell_type": "markdown",
      "source": [
        "**3.1: A percepção do time de cartão não está correta.** <br><br>\n",
        "**3.1: A percepção de tendência de aumento da inadimplência para as safras do 2º semestre de 2019 se deve ao fato de que em agosto observamos a menor inadimplância histórica. Nos meses seguintes a inadimplência volta a se aproximar da média histórica e isso faz com que exista uma \"tendência mascarada\" se analisarmos um curto período.**"
      ],
      "metadata": {
        "id": "zqSgTcOuAnsz"
      }
    },
    {
      "cell_type": "code",
      "source": [
        "#cópia do dataset principal\n",
        "copy_client = client.copy()\n",
        "\n",
        "#join entre os datasets: invoice e client\n",
        "data_modelo = pd.merge(invoice_status, copy_client, how='left', on='ClientId')\n",
        "\n",
        "#construção da variával safra para facilitar a análise\n",
        "data_modelo['Safra'] = data_modelo['FirstInvoiceDate'].dt.strftime('%m-%Y')\n",
        "\n",
        "# exibição das primeiras linhas para validação\n",
        "data_modelo.head()\n",
        "################################################################################################\n",
        "\n",
        "\n",
        "\n",
        "\n",
        "\n",
        "\n",
        "#construindo a variável idade\n",
        "data_modelo['idade'] = data_modelo.RegisterApprovalDate - data_modelo.Birthdate\n",
        "\n",
        "#convertendo a variável idade para númerico\n",
        "data_modelo['idade'] = (data_modelo['idade'].dt.days / 365)\n",
        "\n",
        "\n",
        "# agrupar a categoria \"Ativo\" dentro de \"Aprovado\" para facilitar o cálculo\n",
        "fx_idade_1 = data_modelo.loc[(data_modelo['idade'] <= 18)]\n",
        "fx_idade_1['fx_idade'] = '0-18'\n",
        "\n",
        "fx_idade_2 = data_modelo.loc[(data_modelo['idade'] > 18) & (data_modelo['idade'] <= 26)]\n",
        "fx_idade_2['fx_idade'] = '19-26'\n",
        "\n",
        "fx_idade_3 = data_modelo.loc[(data_modelo['idade'] > 26) & (data_modelo['idade'] <= 34)]\n",
        "fx_idade_3['fx_idade'] = '27-34'\n",
        "\n",
        "fx_idade_4 = data_modelo.loc[(data_modelo['idade'] > 34) & (data_modelo['idade'] <= 42)]\n",
        "fx_idade_4['fx_idade'] = '35-42'\n",
        "\n",
        "fx_idade_5 = data_modelo.loc[(data_modelo['idade'] > 42) & (data_modelo['idade'] <= 50)]\n",
        "fx_idade_5['fx_idade'] = '43-50'\n",
        "\n",
        "fx_idade_6 = data_modelo.loc[(data_modelo['idade'] > 50) & (data_modelo['idade'] <= 58)]\n",
        "fx_idade_6['fx_idade'] = '51-58'\n",
        "\n",
        "fx_idade_7 = data_modelo.loc[(data_modelo['idade'] > 58)]\n",
        "fx_idade_7['fx_idade'] = 'maior que 58'\n",
        "\n",
        "data_modelo = pd.concat([fx_idade_1, fx_idade_2, fx_idade_3, fx_idade_4, fx_idade_5, fx_idade_6, fx_idade_7])\n",
        "\n",
        "\n",
        "\n",
        "\n",
        "\n",
        "\n",
        "\n",
        "#construção da flag idade\n",
        "# agrupar a categoria \"Ativo\" dentro de \"Aprovado\" para facilitar o cálculo\n",
        "cond_model_1 = [\n",
        "    (data_modelo['fx_idade'] == '0-18'),\n",
        "    (data_modelo['fx_idade'] == '19-26'),\n",
        "    (data_modelo['fx_idade'] == '27-34'),\n",
        "    (data_modelo['fx_idade'] == '35-42'),\n",
        "    (data_modelo['fx_idade'] == '43-50'),\n",
        "    (data_modelo['fx_idade'] == '51-58'),\n",
        "    (data_modelo['fx_idade'] == 'maior que 58')]\n",
        "\n",
        "#valores ordenados que serão substítuidos\n",
        "values = [1, 2, 3, 4, 5, 6, 7]\n",
        "\n",
        "#aplicar a função pra susbtituir \"fx_idade\" em \"fx_idade_flg\"\n",
        "data_modelo['fx_idade_flg'] = np.select(cond_model_1, values)\n",
        "\n",
        "\n",
        "\n",
        "\n",
        "\n",
        "\n",
        "\n",
        "#construção da flg Platform\n",
        "cond_model_2 = [\n",
        "    (data_modelo['OSVersion'] == '10.3.3'),\n",
        "    (data_modelo['OSVersion'] == '7.0'),\n",
        "    (data_modelo['OSVersion'] == '11.3.1'),\n",
        "    (data_modelo['OSVersion'] == '6.0.1'),\n",
        "    (data_modelo['OSVersion'] == '12.2'),\n",
        "    (data_modelo['OSVersion'] == '11.4'),\n",
        "    (data_modelo['OSVersion'] == ''),\n",
        "    (data_modelo['OSVersion'] == '7.1.1'),\n",
        "    (data_modelo['OSVersion'] == '8.1.0'),\n",
        "    (data_modelo['OSVersion'] == '8.0.0'),\n",
        "    (data_modelo['OSVersion'] == '12.1'),\n",
        "    (data_modelo['OSVersion'] == '13.1.3'),\n",
        "    (data_modelo['OSVersion'] == '12.4'),\n",
        "    (data_modelo['OSVersion'] == '5.1.1'),\n",
        "    (data_modelo['OSVersion'] == '13.1.2'),\n",
        "    (data_modelo['OSVersion'] == '12.4.1'),\n",
        "    (data_modelo['OSVersion'] == '11.1.2'),\n",
        "    (data_modelo['OSVersion'] == '12.4.2'),\n",
        "    (data_modelo['OSVersion'] == '6.0'),\n",
        "    (data_modelo['OSVersion'] == '12.1.4'),\n",
        "    (data_modelo['OSVersion'] == '10.2.1'),\n",
        "    (data_modelo['OSVersion'] == '5.0.2'),\n",
        "    (data_modelo['OSVersion'] == '13.3'),\n",
        "    (data_modelo['OSVersion'] == '7.1.2'),\n",
        "    (data_modelo['OSVersion'] == '13.0'),\n",
        "    (data_modelo['OSVersion'] == '10.0'),\n",
        "    (data_modelo['OSVersion'] == '12.3.1'),\n",
        "    (data_modelo['OSVersion'] == '5.1'),\n",
        "    (data_modelo['OSVersion'] == '12.1.2'),\n",
        "    (data_modelo['OSVersion'] == '12.4.3'),\n",
        "    (data_modelo['OSVersion'] == '11.4.1'),\n",
        "    (data_modelo['OSVersion'] == '11.2.6'),\n",
        "    (data_modelo['OSVersion'] == '4.4.2'),\n",
        "    (data_modelo['OSVersion'] == '11.0'),\n",
        "    (data_modelo['OSVersion'] == '10.1.1'),\n",
        "    (data_modelo['OSVersion'] == '13.2.3'),\n",
        "    (data_modelo['OSVersion'] == '11.0.3'),\n",
        "    (data_modelo['OSVersion'] == '12.1.1'),\n",
        "    (data_modelo['OSVersion'] == '9.3.5'),\n",
        "    (data_modelo['OSVersion'] == '10.3.1'),\n",
        "    (data_modelo['OSVersion'] == '12.3.2'),\n",
        "    (data_modelo['OSVersion'] == '5.0.1'),\n",
        "    (data_modelo['OSVersion'] == '1.0.7.2'),\n",
        "    (data_modelo['OSVersion'] == '13.2'),\n",
        "    (data_modelo['OSVersion'] == '4.4.4'),\n",
        "    (data_modelo['OSVersion'] == '5.0'),\n",
        "    (data_modelo['OSVersion'] == '11.2.5'),\n",
        "    (data_modelo['OSVersion'] == '12.0.1'),\n",
        "    (data_modelo['OSVersion'] == '12.0'),\n",
        "    (data_modelo['OSVersion'] == '4.2.2'),\n",
        "    (data_modelo['OSVersion'] == '11.3'),\n",
        "    (data_modelo['OSVersion'] == '10.3.2'),\n",
        "    (data_modelo['OSVersion'] == '10.0.2'),\n",
        "    (data_modelo['OSVersion'] == '11.2.1'),\n",
        "    (data_modelo['OSVersion'] == '12.3'),\n",
        "    (data_modelo['OSVersion'] == '9.3.2'),\n",
        "    (data_modelo['OSVersion'] == '4.3'),\n",
        "    (data_modelo['OSVersion'] == '12.1.3'),\n",
        "    (data_modelo['OSVersion'] == '11.1'),\n",
        "    (data_modelo['OSVersion'] == '4.1.2'),\n",
        "    (data_modelo['OSVersion'] == '12.4.4'),\n",
        "    (data_modelo['OSVersion'] == '9.3.6'),\n",
        "    (data_modelo['OSVersion'] == '10.3.4'),\n",
        "    (data_modelo['OSVersion'] == '10.2'),\n",
        "    (data_modelo['OSVersion'] == '11.1.1'),\n",
        "    (data_modelo['OSVersion'] == '1.0.8.2'),\n",
        "    (data_modelo['OSVersion'] == '13.2.2'),\n",
        "    (data_modelo['OSVersion'] == '11.0.1'),\n",
        "    (data_modelo['OSVersion'] == '11.2.2'),\n",
        "    (data_modelo['OSVersion'] == '10.1'),\n",
        "    (data_modelo['OSVersion'] == '1.0.8.1'),\n",
        "    (data_modelo['OSVersion'] == '11.0.2'),\n",
        "    (data_modelo['OSVersion'] == '13.1.1'),\n",
        "    (data_modelo['OSVersion'] == '10.0.1'),\n",
        "    (data_modelo['OSVersion'] == '13.1'),\n",
        "    (data_modelo['OSVersion'] == '9.2.1'),\n",
        "    (data_modelo['OSVersion'] == '9.3.4'),\n",
        "    (data_modelo['OSVersion'] == '4.4.3'),\n",
        "    (data_modelo['OSVersion'] == '1.0.8'),\n",
        "    (data_modelo['OSVersion'] == '11.2'),\n",
        "    (data_modelo['OSVersion'] == '9.3'),\n",
        "    (data_modelo['OSVersion'] == '9.0'),\n",
        "    (data_modelo['OSVersion'] == '9.3.3'),\n",
        "    (data_modelo['OSVersion'] == '10.3'),\n",
        "    (data_modelo['OSVersion'] == '9.2'),\n",
        "    (data_modelo['OSVersion'] == '9.3.1'),\n",
        "    (data_modelo['OSVersion'] == '7.1'),\n",
        "    (data_modelo['OSVersion'] == '10'),\n",
        "    (data_modelo['OSVersion'] == '8.1.0+++xXx_NoLimits_3.3'),\n",
        "    (data_modelo['OSVersion'] == '6.1'),\n",
        "    (data_modelo['OSVersion'] == '8.1'),\n",
        "    (data_modelo['OSVersion'] == '8.0')]\n",
        "\n",
        "values = [1, 2, 3, 4, 5, 6, 7, 8, 9, 10, 11, 12, 13, 14, 15, 16, 17, 18, 19, 20, 21, 22, 23, 24, 25, 26, 27, 28, 29, 30, 31, 32, 33, 34, 35, 36, 37, 38, 39, 40, 41, 42, 43, 44, 45, 46, 47, 48, 49, 50, 51, 52, 53, 54, 55, 56, 57, 58, 59, 60, 61, 62, 63, 64, 65, 66, 67, 68, 69, 70, 71, 72, 73, 74, 75, 76, 77, 78, 79, 80, 81, 82, 83, 84, 85, 86, 87, 88, 89, 90, 91, 92]\n",
        "\n",
        "data_modelo['OSVersion_flg'] = np.select(cond_model_2, values)\n",
        "\n",
        "\n",
        "\n",
        "\n",
        "\n",
        "\n",
        "\n",
        "\n",
        "data_modelo['AddressState'].unique()\n",
        "#construção da flg Estado\n",
        "\n",
        "cond_model_3 = [\n",
        "    (data_modelo['AddressState'] == 'SP'),\n",
        "    (data_modelo['AddressState'] == 'AM'),\n",
        "    (data_modelo['AddressState'] == 'GO'),\n",
        "    (data_modelo['AddressState'] == 'MG'),\n",
        "    (data_modelo['AddressState'] == 'ES'),\n",
        "    (data_modelo['AddressState'] == 'CE'),\n",
        "    (data_modelo['AddressState'] == 'DF'),\n",
        "    (data_modelo['AddressState'] == 'MT'),\n",
        "    (data_modelo['AddressState'] == 'PR'),\n",
        "    (data_modelo['AddressState'] == 'BA'),\n",
        "    (data_modelo['AddressState'] == 'AL'),\n",
        "    (data_modelo['AddressState'] == 'PE'),\n",
        "    (data_modelo['AddressState'] == 'RN'),\n",
        "    (data_modelo['AddressState'] == 'RJ'),\n",
        "    (data_modelo['AddressState'] == 'PB'),\n",
        "    (data_modelo['AddressState'] == 'RS'),\n",
        "    (data_modelo['AddressState'] == 'RO'),\n",
        "    (data_modelo['AddressState'] == 'PA'),\n",
        "    (data_modelo['AddressState'] == 'SC'),\n",
        "    (data_modelo['AddressState'] == 'PI'),\n",
        "    (data_modelo['AddressState'] == 'MS'),\n",
        "    (data_modelo['AddressState'] == 'SE'),\n",
        "    (data_modelo['AddressState'] == 'MA'),\n",
        "    (data_modelo['AddressState'] == 'TO'),\n",
        "    (data_modelo['AddressState'] == 'RR'),\n",
        "    (data_modelo['AddressState'] == 'Piauí'),\n",
        "    (data_modelo['AddressState'] == 'AP'),\n",
        "    (data_modelo['AddressState'] == 'AC'),\n",
        "    (data_modelo['AddressState'] == 'Bahia'),\n",
        "    (data_modelo['AddressState'] == ''),\n",
        "    (data_modelo['AddressState'] == 'Sc'),\n",
        "    (data_modelo['AddressState'] == 'Ceará'),\n",
        "    (data_modelo['AddressState'] == 'bahia'),\n",
        "    (data_modelo['AddressState'] == 'Pe'),\n",
        "    (data_modelo['AddressState'] == 'pr'),\n",
        "    (data_modelo['AddressState'] == 'Se')]\n",
        "\n",
        "\n",
        "values = [1, 2, 3, 4, 5, 6, 7, 8, 9, 10, 11, 12, 13, 14, 15, 16, 17, 18, 19, 20, 21, 22, 23, 24, 25, 20, 27, 28, 10, 30, 19, 6, 10, 12, 9, 22]\n",
        "data_modelo['AddressState_flg'] = np.select(cond_model_3, values)\n",
        "\n",
        "data_modelo[['AddressState', 'AddressState_flg']].loc[(data_modelo['AddressState'] == 'nan')]\n",
        "\n",
        "\n",
        "\n",
        "\n",
        "\n",
        "\n",
        "\n",
        "\n",
        "conditions_4 = [\n",
        "    (data_modelo['Platform'] == 'iPhone+OS'),\n",
        "    (data_modelo['Platform'] == 'Android'),\n",
        "    (data_modelo['Platform'] == '')]\n",
        "\n",
        "#valores ordenados que serão substítuidos\n",
        "values = [1, 2, 3]\n",
        "\n",
        "#aplicar a função pra susbtituir \"Ativo\" em \"Aprovado\"\n",
        "data_modelo['Platform_flg'] = np.select(conditions_4, values)\n",
        "\n",
        "\n",
        "\n",
        "\n",
        "\n",
        "\n",
        "\n",
        "conditions_5 = [\n",
        "    (data_modelo['Gender'] == 'Male'),\n",
        "    (data_modelo['Gender'] == 'Female'),\n",
        "    (data_modelo['Gender'] == 'Unknown')]\n",
        "\n",
        "#valores ordenados que serão substítuidos\n",
        "values = [1, 2, 3]\n",
        "\n",
        "#aplicar a função pra susbtituir \"Ativo\" em \"Aprovado\"\n",
        "data_modelo['Gender_flg'] = np.select(conditions_5, values)\n",
        "\n",
        "\n",
        "\n",
        "\n",
        "\n",
        "\n",
        "\n",
        "\n",
        "\n",
        "\n",
        "# agrupar a categoria \"Ativo\" dentro de \"Aprovado\" para facilitar o cálculo\n",
        "cond_model_5 = [\n",
        "    (data_modelo['InvoiceStatus'] == 'REGULAR'),\n",
        "    (data_modelo['InvoiceStatus'] == 'INADIMPLENTE')]\n",
        "\n",
        "values = [0, 1]\n",
        "data_modelo['InvoiceStatus_flg'] = np.select(cond_model_5, values)"
      ],
      "metadata": {
        "id": "ghyq1LMskg1Q"
      },
      "execution_count": 129,
      "outputs": []
    },
    {
      "cell_type": "markdown",
      "source": [
        "**Estudo das variáveis que podem impactar a indadimplência**"
      ],
      "metadata": {
        "id": "7oa-6ATdea0v"
      }
    },
    {
      "cell_type": "code",
      "source": [
        "data_modelo.groupby('Safra')['ClientId'].count().sort_values(ascending=False).plot(kind='bar')"
      ],
      "metadata": {
        "colab": {
          "base_uri": "https://localhost:8080/",
          "height": 424
        },
        "id": "yVZwTmRmc9bE",
        "outputId": "7c724d10-e717-4835-d7ff-622e43597ddf"
      },
      "execution_count": 116,
      "outputs": [
        {
          "output_type": "execute_result",
          "data": {
            "text/plain": [
              "<matplotlib.axes._subplots.AxesSubplot at 0x7fb440e64f10>"
            ]
          },
          "metadata": {},
          "execution_count": 116
        },
        {
          "output_type": "display_data",
          "data": {
            "text/plain": [
              "<Figure size 576x396 with 1 Axes>"
            ],
            "image/png": "[encoded data removed]"
          },
          "metadata": {}
        }
      ]
    },
    {
      "cell_type": "code",
      "source": [
        "renda_maio = data_modelo.loc[(invoice_status['FirstInvoiceDate'] >= '2019-05-01') & (data_modelo['FirstInvoiceDate'] <= '2019-05-31') \n",
        "                            & (data_modelo['InvoiceDueDate'] >= '2019-08-01') & (data_modelo['InvoiceDueDate'] <= '2019-08-31') & (data_modelo['InvoiceValue'] != 0)]\n",
        "\n",
        "renda_maio = renda_maio[['Safra', 'PresumedIncome', 'OSVersion_flg', 'AddressState_flg']]\n",
        "renda_maio.describe()"
      ],
      "metadata": {
        "colab": {
          "base_uri": "https://localhost:8080/",
          "height": 300
        },
        "id": "KpLotrBSd6qF",
        "outputId": "d0447fcf-fff0-4c3d-f3a9-cfb52df20be4"
      },
      "execution_count": 117,
      "outputs": [
        {
          "output_type": "execute_result",
          "data": {
            "text/plain": [
              "       PresumedIncome  OSVersion_flg  AddressState_flg\n",
              "count     2022.000000    2022.000000       2022.000000\n",
              "mean      1574.026009      11.176558          8.327399\n",
              "std       1830.838461      12.671466          6.356756\n",
              "min          0.000000       0.000000          1.000000\n",
              "25%        978.200000       2.000000          3.000000\n",
              "50%       1187.845000       9.000000          7.000000\n",
              "75%       1551.957500      14.000000         14.000000\n",
              "max      41884.090000      84.000000         28.000000"
            ],
            "text/html": [
              "\n",
              "  <div id=\"df-476e8540-ec7c-457e-9716-9964705b22ae\">\n",
              "    <div class=\"colab-df-container\">\n",
              "      <div>\n",
              "<style scoped>\n",
              "    .dataframe tbody tr th:only-of-type {\n",
              "        vertical-align: middle;\n",
              "    }\n",
              "\n",
              "    .dataframe tbody tr th {\n",
              "        vertical-align: top;\n",
              "    }\n",
              "\n",
              "    .dataframe thead th {\n",
              "        text-align: right;\n",
              "    }\n",
              "</style>\n",
              "<table border=\"1\" class=\"dataframe\">\n",
              "  <thead>\n",
              "    <tr style=\"text-align: right;\">\n",
              "      <th></th>\n",
              "      <th>PresumedIncome</th>\n",
              "      <th>OSVersion_flg</th>\n",
              "      <th>AddressState_flg</th>\n",
              "    </tr>\n",
              "  </thead>\n",
              "  <tbody>\n",
              "    <tr>\n",
              "      <th>count</th>\n",
              "      <td>2022.000000</td>\n",
              "      <td>2022.000000</td>\n",
              "      <td>2022.000000</td>\n",
              "    </tr>\n",
              "    <tr>\n",
              "      <th>mean</th>\n",
              "      <td>1574.026009</td>\n",
              "      <td>11.176558</td>\n",
              "      <td>8.327399</td>\n",
              "    </tr>\n",
              "    <tr>\n",
              "      <th>std</th>\n",
              "      <td>1830.838461</td>\n",
              "      <td>12.671466</td>\n",
              "      <td>6.356756</td>\n",
              "    </tr>\n",
              "    <tr>\n",
              "      <th>min</th>\n",
              "      <td>0.000000</td>\n",
              "      <td>0.000000</td>\n",
              "      <td>1.000000</td>\n",
              "    </tr>\n",
              "    <tr>\n",
              "      <th>25%</th>\n",
              "      <td>978.200000</td>\n",
              "      <td>2.000000</td>\n",
              "      <td>3.000000</td>\n",
              "    </tr>\n",
              "    <tr>\n",
              "      <th>50%</th>\n",
              "      <td>1187.845000</td>\n",
              "      <td>9.000000</td>\n",
              "      <td>7.000000</td>\n",
              "    </tr>\n",
              "    <tr>\n",
              "      <th>75%</th>\n",
              "      <td>1551.957500</td>\n",
              "      <td>14.000000</td>\n",
              "      <td>14.000000</td>\n",
              "    </tr>\n",
              "    <tr>\n",
              "      <th>max</th>\n",
              "      <td>41884.090000</td>\n",
              "      <td>84.000000</td>\n",
              "      <td>28.000000</td>\n",
              "    </tr>\n",
              "  </tbody>\n",
              "</table>\n",
              "</div>\n",
              "      <button class=\"colab-df-convert\" onclick=\"convertToInteractive('df-476e8540-ec7c-457e-9716-9964705b22ae')\"\n",
              "              title=\"Convert this dataframe to an interactive table.\"\n",
              "              style=\"display:none;\">\n",
              "        \n",
              "  <svg xmlns=\"http://www.w3.org/2000/svg\" height=\"24px\"viewBox=\"0 0 24 24\"\n",
              "       width=\"24px\">\n",
              "    <path d=\"M0 0h24v24H0V0z\" fill=\"none\"/>\n",
              "    <path d=\"M18.56 5.44l.94 2.06.94-2.06 2.06-.94-2.06-.94-.94-2.06-.94 2.06-2.06.94zm-11 1L8.5 8.5l.94-2.06 2.06-.94-2.06-.94L8.5 2.5l-.94 2.06-2.06.94zm10 10l.94 2.06.94-2.06 2.06-.94-2.06-.94-.94-2.06-.94 2.06-2.06.94z\"/><path d=\"M17.41 7.96l-1.37-1.37c-.4-.4-.92-.59-1.43-.59-.52 0-1.04.2-1.43.59L10.3 9.45l-7.72 7.72c-.78.78-.78 2.05 0 2.83L4 21.41c.39.39.9.59 1.41.59.51 0 1.02-.2 1.41-.59l7.78-7.78 2.81-2.81c.8-.78.8-2.07 0-2.86zM5.41 20L4 18.59l7.72-7.72 1.47 1.35L5.41 20z\"/>\n",
              "  </svg>\n",
              "      </button>\n",
              "      \n",
              "  <style>\n",
              "    .colab-df-container {\n",
              "      display:flex;\n",
              "      flex-wrap:wrap;\n",
              "      gap: 12px;\n",
              "    }\n",
              "\n",
              "    .colab-df-convert {\n",
              "      background-color: #E8F0FE;\n",
              "      border: none;\n",
              "      border-radius: 50%;\n",
              "      cursor: pointer;\n",
              "      display: none;\n",
              "      fill: #1967D2;\n",
              "      height: 32px;\n",
              "      padding: 0 0 0 0;\n",
              "      width: 32px;\n",
              "    }\n",
              "\n",
              "    .colab-df-convert:hover {\n",
              "      background-color: #E2EBFA;\n",
              "      box-shadow: 0px 1px 2px rgba(60, 64, 67, 0.3), 0px 1px 3px 1px rgba(60, 64, 67, 0.15);\n",
              "      fill: #174EA6;\n",
              "    }\n",
              "\n",
              "    [theme=dark] .colab-df-convert {\n",
              "      background-color: #3B4455;\n",
              "      fill: #D2E3FC;\n",
              "    }\n",
              "\n",
              "    [theme=dark] .colab-df-convert:hover {\n",
              "      background-color: #434B5C;\n",
              "      box-shadow: 0px 1px 3px 1px rgba(0, 0, 0, 0.15);\n",
              "      filter: drop-shadow(0px 1px 2px rgba(0, 0, 0, 0.3));\n",
              "      fill: #FFFFFF;\n",
              "    }\n",
              "  </style>\n",
              "\n",
              "      <script>\n",
              "        const buttonEl =\n",
              "          document.querySelector('#df-476e8540-ec7c-457e-9716-9964705b22ae button.colab-df-convert');\n",
              "        buttonEl.style.display =\n",
              "          google.colab.kernel.accessAllowed ? 'block' : 'none';\n",
              "\n",
              "        async function convertToInteractive(key) {\n",
              "          const element = document.querySelector('#df-476e8540-ec7c-457e-9716-9964705b22ae');\n",
              "          const dataTable =\n",
              "            await google.colab.kernel.invokeFunction('convertToInteractive',\n",
              "                                                     [key], {});\n",
              "          if (!dataTable) return;\n",
              "\n",
              "          const docLinkHtml = 'Like what you see? Visit the ' +\n",
              "            '<a target=\"_blank\" href=https://colab.research.google.com/notebooks/data_table.ipynb>data table notebook</a>'\n",
              "            + ' to learn more about interactive tables.';\n",
              "          element.innerHTML = '';\n",
              "          dataTable['output_type'] = 'display_data';\n",
              "          await google.colab.output.renderOutput(dataTable, element);\n",
              "          const docLink = document.createElement('div');\n",
              "          docLink.innerHTML = docLinkHtml;\n",
              "          element.appendChild(docLink);\n",
              "        }\n",
              "      </script>\n",
              "    </div>\n",
              "  </div>\n",
              "  "
            ]
          },
          "metadata": {},
          "execution_count": 117
        }
      ]
    },
    {
      "cell_type": "code",
      "source": [
        "renda_jun = data_modelo.loc[(invoice_status['FirstInvoiceDate'] >= '2019-06-01') & (data_modelo['FirstInvoiceDate'] <= '2019-06-30') \n",
        "                            & (data_modelo['InvoiceDueDate'] >= '2019-09-01') & (data_modelo['InvoiceDueDate'] <= '2019-09-30') & (data_modelo['InvoiceValue'] != 0)]\n",
        "\n",
        "renda_jun = renda_jun[['Safra', 'PresumedIncome']]\n",
        "renda_jun.describe()"
      ],
      "metadata": {
        "colab": {
          "base_uri": "https://localhost:8080/",
          "height": 300
        },
        "id": "QBYsoM2EgHwc",
        "outputId": "bb1781bb-0ff1-4639-f0fa-42d168011759"
      },
      "execution_count": 118,
      "outputs": [
        {
          "output_type": "execute_result",
          "data": {
            "text/plain": [
              "       PresumedIncome\n",
              "count     1977.000000\n",
              "mean      1656.247699\n",
              "std       1956.733030\n",
              "min          0.000000\n",
              "25%        991.780000\n",
              "50%       1219.810000\n",
              "75%       1625.990000\n",
              "max      35878.330000"
            ],
            "text/html": [
              "\n",
              "  <div id=\"df-0576a9d3-4781-4cb7-812c-8fb465b66a33\">\n",
              "    <div class=\"colab-df-container\">\n",
              "      <div>\n",
              "<style scoped>\n",
              "    .dataframe tbody tr th:only-of-type {\n",
              "        vertical-align: middle;\n",
              "    }\n",
              "\n",
              "    .dataframe tbody tr th {\n",
              "        vertical-align: top;\n",
              "    }\n",
              "\n",
              "    .dataframe thead th {\n",
              "        text-align: right;\n",
              "    }\n",
              "</style>\n",
              "<table border=\"1\" class=\"dataframe\">\n",
              "  <thead>\n",
              "    <tr style=\"text-align: right;\">\n",
              "      <th></th>\n",
              "      <th>PresumedIncome</th>\n",
              "    </tr>\n",
              "  </thead>\n",
              "  <tbody>\n",
              "    <tr>\n",
              "      <th>count</th>\n",
              "      <td>1977.000000</td>\n",
              "    </tr>\n",
              "    <tr>\n",
              "      <th>mean</th>\n",
              "      <td>1656.247699</td>\n",
              "    </tr>\n",
              "    <tr>\n",
              "      <th>std</th>\n",
              "      <td>1956.733030</td>\n",
              "    </tr>\n",
              "    <tr>\n",
              "      <th>min</th>\n",
              "      <td>0.000000</td>\n",
              "    </tr>\n",
              "    <tr>\n",
              "      <th>25%</th>\n",
              "      <td>991.780000</td>\n",
              "    </tr>\n",
              "    <tr>\n",
              "      <th>50%</th>\n",
              "      <td>1219.810000</td>\n",
              "    </tr>\n",
              "    <tr>\n",
              "      <th>75%</th>\n",
              "      <td>1625.990000</td>\n",
              "    </tr>\n",
              "    <tr>\n",
              "      <th>max</th>\n",
              "      <td>35878.330000</td>\n",
              "    </tr>\n",
              "  </tbody>\n",
              "</table>\n",
              "</div>\n",
              "      <button class=\"colab-df-convert\" onclick=\"convertToInteractive('df-0576a9d3-4781-4cb7-812c-8fb465b66a33')\"\n",
              "              title=\"Convert this dataframe to an interactive table.\"\n",
              "              style=\"display:none;\">\n",
              "        \n",
              "  <svg xmlns=\"http://www.w3.org/2000/svg\" height=\"24px\"viewBox=\"0 0 24 24\"\n",
              "       width=\"24px\">\n",
              "    <path d=\"M0 0h24v24H0V0z\" fill=\"none\"/>\n",
              "    <path d=\"M18.56 5.44l.94 2.06.94-2.06 2.06-.94-2.06-.94-.94-2.06-.94 2.06-2.06.94zm-11 1L8.5 8.5l.94-2.06 2.06-.94-2.06-.94L8.5 2.5l-.94 2.06-2.06.94zm10 10l.94 2.06.94-2.06 2.06-.94-2.06-.94-.94-2.06-.94 2.06-2.06.94z\"/><path d=\"M17.41 7.96l-1.37-1.37c-.4-.4-.92-.59-1.43-.59-.52 0-1.04.2-1.43.59L10.3 9.45l-7.72 7.72c-.78.78-.78 2.05 0 2.83L4 21.41c.39.39.9.59 1.41.59.51 0 1.02-.2 1.41-.59l7.78-7.78 2.81-2.81c.8-.78.8-2.07 0-2.86zM5.41 20L4 18.59l7.72-7.72 1.47 1.35L5.41 20z\"/>\n",
              "  </svg>\n",
              "      </button>\n",
              "      \n",
              "  <style>\n",
              "    .colab-df-container {\n",
              "      display:flex;\n",
              "      flex-wrap:wrap;\n",
              "      gap: 12px;\n",
              "    }\n",
              "\n",
              "    .colab-df-convert {\n",
              "      background-color: #E8F0FE;\n",
              "      border: none;\n",
              "      border-radius: 50%;\n",
              "      cursor: pointer;\n",
              "      display: none;\n",
              "      fill: #1967D2;\n",
              "      height: 32px;\n",
              "      padding: 0 0 0 0;\n",
              "      width: 32px;\n",
              "    }\n",
              "\n",
              "    .colab-df-convert:hover {\n",
              "      background-color: #E2EBFA;\n",
              "      box-shadow: 0px 1px 2px rgba(60, 64, 67, 0.3), 0px 1px 3px 1px rgba(60, 64, 67, 0.15);\n",
              "      fill: #174EA6;\n",
              "    }\n",
              "\n",
              "    [theme=dark] .colab-df-convert {\n",
              "      background-color: #3B4455;\n",
              "      fill: #D2E3FC;\n",
              "    }\n",
              "\n",
              "    [theme=dark] .colab-df-convert:hover {\n",
              "      background-color: #434B5C;\n",
              "      box-shadow: 0px 1px 3px 1px rgba(0, 0, 0, 0.15);\n",
              "      filter: drop-shadow(0px 1px 2px rgba(0, 0, 0, 0.3));\n",
              "      fill: #FFFFFF;\n",
              "    }\n",
              "  </style>\n",
              "\n",
              "      <script>\n",
              "        const buttonEl =\n",
              "          document.querySelector('#df-0576a9d3-4781-4cb7-812c-8fb465b66a33 button.colab-df-convert');\n",
              "        buttonEl.style.display =\n",
              "          google.colab.kernel.accessAllowed ? 'block' : 'none';\n",
              "\n",
              "        async function convertToInteractive(key) {\n",
              "          const element = document.querySelector('#df-0576a9d3-4781-4cb7-812c-8fb465b66a33');\n",
              "          const dataTable =\n",
              "            await google.colab.kernel.invokeFunction('convertToInteractive',\n",
              "                                                     [key], {});\n",
              "          if (!dataTable) return;\n",
              "\n",
              "          const docLinkHtml = 'Like what you see? Visit the ' +\n",
              "            '<a target=\"_blank\" href=https://colab.research.google.com/notebooks/data_table.ipynb>data table notebook</a>'\n",
              "            + ' to learn more about interactive tables.';\n",
              "          element.innerHTML = '';\n",
              "          dataTable['output_type'] = 'display_data';\n",
              "          await google.colab.output.renderOutput(dataTable, element);\n",
              "          const docLink = document.createElement('div');\n",
              "          docLink.innerHTML = docLinkHtml;\n",
              "          element.appendChild(docLink);\n",
              "        }\n",
              "      </script>\n",
              "    </div>\n",
              "  </div>\n",
              "  "
            ]
          },
          "metadata": {},
          "execution_count": 118
        }
      ]
    },
    {
      "cell_type": "code",
      "source": [
        "rend_ago = data_modelo.loc[(data_modelo['FirstInvoiceDate'] >= '2019-08-01') & (data_modelo['FirstInvoiceDate'] <= '2019-08-31') \n",
        "                            & (data_modelo['InvoiceDueDate'] >= '2019-11-01') & (data_modelo['InvoiceDueDate'] <= '2019-11-30') & (data_modelo['InvoiceValue'] != 0)]\n",
        "\n",
        "rend_ago = rend_ago[['Safra', 'PresumedIncome']]\n",
        "rend_ago.describe()"
      ],
      "metadata": {
        "colab": {
          "base_uri": "https://localhost:8080/",
          "height": 300
        },
        "id": "fziX99R_gf-b",
        "outputId": "1630e0e1-f8f2-4d31-ec56-bb407cb36254"
      },
      "execution_count": 119,
      "outputs": [
        {
          "output_type": "execute_result",
          "data": {
            "text/plain": [
              "       PresumedIncome\n",
              "count     1344.000000\n",
              "mean      1745.564963\n",
              "std       1416.858829\n",
              "min          0.000000\n",
              "25%       1068.320000\n",
              "50%       1314.370000\n",
              "75%       1959.987500\n",
              "max      24024.370000"
            ],
            "text/html": [
              "\n",
              "  <div id=\"df-41b8dea2-6672-481a-bed6-983d76040344\">\n",
              "    <div class=\"colab-df-container\">\n",
              "      <div>\n",
              "<style scoped>\n",
              "    .dataframe tbody tr th:only-of-type {\n",
              "        vertical-align: middle;\n",
              "    }\n",
              "\n",
              "    .dataframe tbody tr th {\n",
              "        vertical-align: top;\n",
              "    }\n",
              "\n",
              "    .dataframe thead th {\n",
              "        text-align: right;\n",
              "    }\n",
              "</style>\n",
              "<table border=\"1\" class=\"dataframe\">\n",
              "  <thead>\n",
              "    <tr style=\"text-align: right;\">\n",
              "      <th></th>\n",
              "      <th>PresumedIncome</th>\n",
              "    </tr>\n",
              "  </thead>\n",
              "  <tbody>\n",
              "    <tr>\n",
              "      <th>count</th>\n",
              "      <td>1344.000000</td>\n",
              "    </tr>\n",
              "    <tr>\n",
              "      <th>mean</th>\n",
              "      <td>1745.564963</td>\n",
              "    </tr>\n",
              "    <tr>\n",
              "      <th>std</th>\n",
              "      <td>1416.858829</td>\n",
              "    </tr>\n",
              "    <tr>\n",
              "      <th>min</th>\n",
              "      <td>0.000000</td>\n",
              "    </tr>\n",
              "    <tr>\n",
              "      <th>25%</th>\n",
              "      <td>1068.320000</td>\n",
              "    </tr>\n",
              "    <tr>\n",
              "      <th>50%</th>\n",
              "      <td>1314.370000</td>\n",
              "    </tr>\n",
              "    <tr>\n",
              "      <th>75%</th>\n",
              "      <td>1959.987500</td>\n",
              "    </tr>\n",
              "    <tr>\n",
              "      <th>max</th>\n",
              "      <td>24024.370000</td>\n",
              "    </tr>\n",
              "  </tbody>\n",
              "</table>\n",
              "</div>\n",
              "      <button class=\"colab-df-convert\" onclick=\"convertToInteractive('df-41b8dea2-6672-481a-bed6-983d76040344')\"\n",
              "              title=\"Convert this dataframe to an interactive table.\"\n",
              "              style=\"display:none;\">\n",
              "        \n",
              "  <svg xmlns=\"http://www.w3.org/2000/svg\" height=\"24px\"viewBox=\"0 0 24 24\"\n",
              "       width=\"24px\">\n",
              "    <path d=\"M0 0h24v24H0V0z\" fill=\"none\"/>\n",
              "    <path d=\"M18.56 5.44l.94 2.06.94-2.06 2.06-.94-2.06-.94-.94-2.06-.94 2.06-2.06.94zm-11 1L8.5 8.5l.94-2.06 2.06-.94-2.06-.94L8.5 2.5l-.94 2.06-2.06.94zm10 10l.94 2.06.94-2.06 2.06-.94-2.06-.94-.94-2.06-.94 2.06-2.06.94z\"/><path d=\"M17.41 7.96l-1.37-1.37c-.4-.4-.92-.59-1.43-.59-.52 0-1.04.2-1.43.59L10.3 9.45l-7.72 7.72c-.78.78-.78 2.05 0 2.83L4 21.41c.39.39.9.59 1.41.59.51 0 1.02-.2 1.41-.59l7.78-7.78 2.81-2.81c.8-.78.8-2.07 0-2.86zM5.41 20L4 18.59l7.72-7.72 1.47 1.35L5.41 20z\"/>\n",
              "  </svg>\n",
              "      </button>\n",
              "      \n",
              "  <style>\n",
              "    .colab-df-container {\n",
              "      display:flex;\n",
              "      flex-wrap:wrap;\n",
              "      gap: 12px;\n",
              "    }\n",
              "\n",
              "    .colab-df-convert {\n",
              "      background-color: #E8F0FE;\n",
              "      border: none;\n",
              "      border-radius: 50%;\n",
              "      cursor: pointer;\n",
              "      display: none;\n",
              "      fill: #1967D2;\n",
              "      height: 32px;\n",
              "      padding: 0 0 0 0;\n",
              "      width: 32px;\n",
              "    }\n",
              "\n",
              "    .colab-df-convert:hover {\n",
              "      background-color: #E2EBFA;\n",
              "      box-shadow: 0px 1px 2px rgba(60, 64, 67, 0.3), 0px 1px 3px 1px rgba(60, 64, 67, 0.15);\n",
              "      fill: #174EA6;\n",
              "    }\n",
              "\n",
              "    [theme=dark] .colab-df-convert {\n",
              "      background-color: #3B4455;\n",
              "      fill: #D2E3FC;\n",
              "    }\n",
              "\n",
              "    [theme=dark] .colab-df-convert:hover {\n",
              "      background-color: #434B5C;\n",
              "      box-shadow: 0px 1px 3px 1px rgba(0, 0, 0, 0.15);\n",
              "      filter: drop-shadow(0px 1px 2px rgba(0, 0, 0, 0.3));\n",
              "      fill: #FFFFFF;\n",
              "    }\n",
              "  </style>\n",
              "\n",
              "      <script>\n",
              "        const buttonEl =\n",
              "          document.querySelector('#df-41b8dea2-6672-481a-bed6-983d76040344 button.colab-df-convert');\n",
              "        buttonEl.style.display =\n",
              "          google.colab.kernel.accessAllowed ? 'block' : 'none';\n",
              "\n",
              "        async function convertToInteractive(key) {\n",
              "          const element = document.querySelector('#df-41b8dea2-6672-481a-bed6-983d76040344');\n",
              "          const dataTable =\n",
              "            await google.colab.kernel.invokeFunction('convertToInteractive',\n",
              "                                                     [key], {});\n",
              "          if (!dataTable) return;\n",
              "\n",
              "          const docLinkHtml = 'Like what you see? Visit the ' +\n",
              "            '<a target=\"_blank\" href=https://colab.research.google.com/notebooks/data_table.ipynb>data table notebook</a>'\n",
              "            + ' to learn more about interactive tables.';\n",
              "          element.innerHTML = '';\n",
              "          dataTable['output_type'] = 'display_data';\n",
              "          await google.colab.output.renderOutput(dataTable, element);\n",
              "          const docLink = document.createElement('div');\n",
              "          docLink.innerHTML = docLinkHtml;\n",
              "          element.appendChild(docLink);\n",
              "        }\n",
              "      </script>\n",
              "    </div>\n",
              "  </div>\n",
              "  "
            ]
          },
          "metadata": {},
          "execution_count": 119
        }
      ]
    },
    {
      "cell_type": "markdown",
      "source": [
        "**Dataset preparado para modelo de Regressão Logística**"
      ],
      "metadata": {
        "id": "ffk3fHc8O_zJ"
      }
    },
    {
      "cell_type": "code",
      "source": [
        "data_modelo_v2 = data_modelo.loc[:, ['InvoiceStatus_flg', 'InvoiceValue', 'PresumedIncome', 'Platform_flg', 'AddressState_flg', 'fx_idade_flg', 'OSVersion_flg', 'Gender_flg']]\n",
        "data_modelo_v2.head(3)"
      ],
      "metadata": {
        "colab": {
          "base_uri": "https://localhost:8080/",
          "height": 143
        },
        "id": "7aIY13mCHlTk",
        "outputId": "66ed22b5-1a04-4e1f-c547-7883c8ee8990"
      },
      "execution_count": 131,
      "outputs": [
        {
          "output_type": "execute_result",
          "data": {
            "text/plain": [
              "        InvoiceStatus_flg  InvoiceValue  PresumedIncome  Platform_flg  \\\n",
              "6473                    0         27.75           760.6             1   \n",
              "37283                   1        569.96           760.6             1   \n",
              "105705                  1        503.33           760.6             1   \n",
              "\n",
              "        AddressState_flg  fx_idade_flg  OSVersion_flg  Gender_flg  \n",
              "6473                   1             1              1           2  \n",
              "37283                  1             1              1           2  \n",
              "105705                 1             1              1           2  "
            ],
            "text/html": [
              "\n",
              "  <div id=\"df-a4626c07-f7ae-472b-9e34-1883c5fbf3da\">\n",
              "    <div class=\"colab-df-container\">\n",
              "      <div>\n",
              "<style scoped>\n",
              "    .dataframe tbody tr th:only-of-type {\n",
              "        vertical-align: middle;\n",
              "    }\n",
              "\n",
              "    .dataframe tbody tr th {\n",
              "        vertical-align: top;\n",
              "    }\n",
              "\n",
              "    .dataframe thead th {\n",
              "        text-align: right;\n",
              "    }\n",
              "</style>\n",
              "<table border=\"1\" class=\"dataframe\">\n",
              "  <thead>\n",
              "    <tr style=\"text-align: right;\">\n",
              "      <th></th>\n",
              "      <th>InvoiceStatus_flg</th>\n",
              "      <th>InvoiceValue</th>\n",
              "      <th>PresumedIncome</th>\n",
              "      <th>Platform_flg</th>\n",
              "      <th>AddressState_flg</th>\n",
              "      <th>fx_idade_flg</th>\n",
              "      <th>OSVersion_flg</th>\n",
              "      <th>Gender_flg</th>\n",
              "    </tr>\n",
              "  </thead>\n",
              "  <tbody>\n",
              "    <tr>\n",
              "      <th>6473</th>\n",
              "      <td>0</td>\n",
              "      <td>27.75</td>\n",
              "      <td>760.6</td>\n",
              "      <td>1</td>\n",
              "      <td>1</td>\n",
              "      <td>1</td>\n",
              "      <td>1</td>\n",
              "      <td>2</td>\n",
              "    </tr>\n",
              "    <tr>\n",
              "      <th>37283</th>\n",
              "      <td>1</td>\n",
              "      <td>569.96</td>\n",
              "      <td>760.6</td>\n",
              "      <td>1</td>\n",
              "      <td>1</td>\n",
              "      <td>1</td>\n",
              "      <td>1</td>\n",
              "      <td>2</td>\n",
              "    </tr>\n",
              "    <tr>\n",
              "      <th>105705</th>\n",
              "      <td>1</td>\n",
              "      <td>503.33</td>\n",
              "      <td>760.6</td>\n",
              "      <td>1</td>\n",
              "      <td>1</td>\n",
              "      <td>1</td>\n",
              "      <td>1</td>\n",
              "      <td>2</td>\n",
              "    </tr>\n",
              "  </tbody>\n",
              "</table>\n",
              "</div>\n",
              "      <button class=\"colab-df-convert\" onclick=\"convertToInteractive('df-a4626c07-f7ae-472b-9e34-1883c5fbf3da')\"\n",
              "              title=\"Convert this dataframe to an interactive table.\"\n",
              "              style=\"display:none;\">\n",
              "        \n",
              "  <svg xmlns=\"http://www.w3.org/2000/svg\" height=\"24px\"viewBox=\"0 0 24 24\"\n",
              "       width=\"24px\">\n",
              "    <path d=\"M0 0h24v24H0V0z\" fill=\"none\"/>\n",
              "    <path d=\"M18.56 5.44l.94 2.06.94-2.06 2.06-.94-2.06-.94-.94-2.06-.94 2.06-2.06.94zm-11 1L8.5 8.5l.94-2.06 2.06-.94-2.06-.94L8.5 2.5l-.94 2.06-2.06.94zm10 10l.94 2.06.94-2.06 2.06-.94-2.06-.94-.94-2.06-.94 2.06-2.06.94z\"/><path d=\"M17.41 7.96l-1.37-1.37c-.4-.4-.92-.59-1.43-.59-.52 0-1.04.2-1.43.59L10.3 9.45l-7.72 7.72c-.78.78-.78 2.05 0 2.83L4 21.41c.39.39.9.59 1.41.59.51 0 1.02-.2 1.41-.59l7.78-7.78 2.81-2.81c.8-.78.8-2.07 0-2.86zM5.41 20L4 18.59l7.72-7.72 1.47 1.35L5.41 20z\"/>\n",
              "  </svg>\n",
              "      </button>\n",
              "      \n",
              "  <style>\n",
              "    .colab-df-container {\n",
              "      display:flex;\n",
              "      flex-wrap:wrap;\n",
              "      gap: 12px;\n",
              "    }\n",
              "\n",
              "    .colab-df-convert {\n",
              "      background-color: #E8F0FE;\n",
              "      border: none;\n",
              "      border-radius: 50%;\n",
              "      cursor: pointer;\n",
              "      display: none;\n",
              "      fill: #1967D2;\n",
              "      height: 32px;\n",
              "      padding: 0 0 0 0;\n",
              "      width: 32px;\n",
              "    }\n",
              "\n",
              "    .colab-df-convert:hover {\n",
              "      background-color: #E2EBFA;\n",
              "      box-shadow: 0px 1px 2px rgba(60, 64, 67, 0.3), 0px 1px 3px 1px rgba(60, 64, 67, 0.15);\n",
              "      fill: #174EA6;\n",
              "    }\n",
              "\n",
              "    [theme=dark] .colab-df-convert {\n",
              "      background-color: #3B4455;\n",
              "      fill: #D2E3FC;\n",
              "    }\n",
              "\n",
              "    [theme=dark] .colab-df-convert:hover {\n",
              "      background-color: #434B5C;\n",
              "      box-shadow: 0px 1px 3px 1px rgba(0, 0, 0, 0.15);\n",
              "      filter: drop-shadow(0px 1px 2px rgba(0, 0, 0, 0.3));\n",
              "      fill: #FFFFFF;\n",
              "    }\n",
              "  </style>\n",
              "\n",
              "      <script>\n",
              "        const buttonEl =\n",
              "          document.querySelector('#df-a4626c07-f7ae-472b-9e34-1883c5fbf3da button.colab-df-convert');\n",
              "        buttonEl.style.display =\n",
              "          google.colab.kernel.accessAllowed ? 'block' : 'none';\n",
              "\n",
              "        async function convertToInteractive(key) {\n",
              "          const element = document.querySelector('#df-a4626c07-f7ae-472b-9e34-1883c5fbf3da');\n",
              "          const dataTable =\n",
              "            await google.colab.kernel.invokeFunction('convertToInteractive',\n",
              "                                                     [key], {});\n",
              "          if (!dataTable) return;\n",
              "\n",
              "          const docLinkHtml = 'Like what you see? Visit the ' +\n",
              "            '<a target=\"_blank\" href=https://colab.research.google.com/notebooks/data_table.ipynb>data table notebook</a>'\n",
              "            + ' to learn more about interactive tables.';\n",
              "          element.innerHTML = '';\n",
              "          dataTable['output_type'] = 'display_data';\n",
              "          await google.colab.output.renderOutput(dataTable, element);\n",
              "          const docLink = document.createElement('div');\n",
              "          docLink.innerHTML = docLinkHtml;\n",
              "          element.appendChild(docLink);\n",
              "        }\n",
              "      </script>\n",
              "    </div>\n",
              "  </div>\n",
              "  "
            ]
          },
          "metadata": {},
          "execution_count": 131
        }
      ]
    },
    {
      "cell_type": "code",
      "source": [
        "from sklearn.linear_model import LogisticRegression\n",
        "from sklearn.model_selection import train_test_split\n",
        "\n",
        "X = data_modelo_v2.iloc[:, [1, 2, 3, 4, 5, 6, 7]].values\n",
        "y = data_modelo_v2.iloc[:, [0]].values"
      ],
      "metadata": {
        "id": "olhdW7RfJiFj"
      },
      "execution_count": 160,
      "outputs": []
    },
    {
      "cell_type": "code",
      "source": [
        "model = LogisticRegression()\n",
        "model.fit(X, y)\n",
        "\n",
        "model.score(X, y)"
      ],
      "metadata": {
        "colab": {
          "base_uri": "https://localhost:8080/"
        },
        "id": "o-h71OZyOTrJ",
        "outputId": "bfdb81a8-bd3f-4af9-f6ad-1bca59e0fb63"
      },
      "execution_count": 164,
      "outputs": [
        {
          "output_type": "execute_result",
          "data": {
            "text/plain": [
              "0.902801176686249"
            ]
          },
          "metadata": {},
          "execution_count": 164
        }
      ]
    },
    {
      "cell_type": "markdown",
      "source": [
        "**Avaliação do Modelo -  Matriz de Confusão**"
      ],
      "metadata": {
        "id": "QQlYgsiHTdXR"
      }
    },
    {
      "cell_type": "code",
      "source": [
        ""
      ],
      "metadata": {
        "id": "H-0otHKjTeAu"
      },
      "execution_count": null,
      "outputs": []
    },
    {
      "cell_type": "code",
      "source": [
        "confusion_matrix(\n",
        "    model,\n",
        "    X_train, y_train, X_test, y_test,\n",
        "    classes=['Adimplente', 'Inadimplente'])\n",
        "\n",
        "plt.tight_layout()"
      ],
      "metadata": {
        "colab": {
          "base_uri": "https://localhost:8080/",
          "height": 419
        },
        "id": "7WKXBfimOr6_",
        "outputId": "792f72ca-e8ef-4736-f81b-2ee998a9ddce"
      },
      "execution_count": 176,
      "outputs": [
        {
          "output_type": "display_data",
          "data": {
            "text/plain": [
              "<Figure size 576x396 with 1 Axes>"
            ],
            "image/png": "[encoded data removed]"
          },
          "metadata": {}
        },
        {
          "output_type": "display_data",
          "data": {
            "text/plain": [
              "<Figure size 576x396 with 0 Axes>"
            ]
          },
          "metadata": {}
        }
      ]
    },
    {
      "cell_type": "markdown",
      "source": [
        "**Importância das variáveis para explicar a inadimplência**"
      ],
      "metadata": {
        "id": "lpynbKj1TivQ"
      }
    },
    {
      "cell_type": "code",
      "source": [
        "import math\n",
        "\n",
        "w0, w1, w2, w3, w4, w5, w6 = model.coef_[0]\n",
        "w = [w0, w1, w2, w3, w4, w5, w6]\n",
        "\n",
        "names = ['InvoiceValue', 'PresumedIncome', 'Platform_flg', 'AddressState_flg', 'fx_idade_flg', 'OSVersion_flg', 'Gender_flg']\n",
        "df_importance = pd.DataFrame(names, columns=['variavel'])\n",
        "df_importance['importancia'] = pow(math.e, np.array(w))\n",
        "\n",
        "df_importance.sort_values(ascending=False, by='importancia')"
      ],
      "metadata": {
        "colab": {
          "base_uri": "https://localhost:8080/",
          "height": 269
        },
        "id": "hj404XgcRmR5",
        "outputId": "132505ed-cd77-4043-a12c-e75e83c07535"
      },
      "execution_count": 191,
      "outputs": [
        {
          "output_type": "execute_result",
          "data": {
            "text/plain": [
              "           variavel  importancia\n",
              "3  AddressState_flg     1.003534\n",
              "0      InvoiceValue     1.002900\n",
              "1    PresumedIncome     0.998325\n",
              "5     OSVersion_flg     0.984068\n",
              "4      fx_idade_flg     0.901200\n",
              "6        Gender_flg     0.789643\n",
              "2      Platform_flg     0.778996"
            ],
            "text/html": [
              "\n",
              "  <div id=\"df-42cda57c-0a12-4317-bdb1-58177c0ebe04\">\n",
              "    <div class=\"colab-df-container\">\n",
              "      <div>\n",
              "<style scoped>\n",
              "    .dataframe tbody tr th:only-of-type {\n",
              "        vertical-align: middle;\n",
              "    }\n",
              "\n",
              "    .dataframe tbody tr th {\n",
              "        vertical-align: top;\n",
              "    }\n",
              "\n",
              "    .dataframe thead th {\n",
              "        text-align: right;\n",
              "    }\n",
              "</style>\n",
              "<table border=\"1\" class=\"dataframe\">\n",
              "  <thead>\n",
              "    <tr style=\"text-align: right;\">\n",
              "      <th></th>\n",
              "      <th>variavel</th>\n",
              "      <th>importancia</th>\n",
              "    </tr>\n",
              "  </thead>\n",
              "  <tbody>\n",
              "    <tr>\n",
              "      <th>3</th>\n",
              "      <td>AddressState_flg</td>\n",
              "      <td>1.003534</td>\n",
              "    </tr>\n",
              "    <tr>\n",
              "      <th>0</th>\n",
              "      <td>InvoiceValue</td>\n",
              "      <td>1.002900</td>\n",
              "    </tr>\n",
              "    <tr>\n",
              "      <th>1</th>\n",
              "      <td>PresumedIncome</td>\n",
              "      <td>0.998325</td>\n",
              "    </tr>\n",
              "    <tr>\n",
              "      <th>5</th>\n",
              "      <td>OSVersion_flg</td>\n",
              "      <td>0.984068</td>\n",
              "    </tr>\n",
              "    <tr>\n",
              "      <th>4</th>\n",
              "      <td>fx_idade_flg</td>\n",
              "      <td>0.901200</td>\n",
              "    </tr>\n",
              "    <tr>\n",
              "      <th>6</th>\n",
              "      <td>Gender_flg</td>\n",
              "      <td>0.789643</td>\n",
              "    </tr>\n",
              "    <tr>\n",
              "      <th>2</th>\n",
              "      <td>Platform_flg</td>\n",
              "      <td>0.778996</td>\n",
              "    </tr>\n",
              "  </tbody>\n",
              "</table>\n",
              "</div>\n",
              "      <button class=\"colab-df-convert\" onclick=\"convertToInteractive('df-42cda57c-0a12-4317-bdb1-58177c0ebe04')\"\n",
              "              title=\"Convert this dataframe to an interactive table.\"\n",
              "              style=\"display:none;\">\n",
              "        \n",
              "  <svg xmlns=\"http://www.w3.org/2000/svg\" height=\"24px\"viewBox=\"0 0 24 24\"\n",
              "       width=\"24px\">\n",
              "    <path d=\"M0 0h24v24H0V0z\" fill=\"none\"/>\n",
              "    <path d=\"M18.56 5.44l.94 2.06.94-2.06 2.06-.94-2.06-.94-.94-2.06-.94 2.06-2.06.94zm-11 1L8.5 8.5l.94-2.06 2.06-.94-2.06-.94L8.5 2.5l-.94 2.06-2.06.94zm10 10l.94 2.06.94-2.06 2.06-.94-2.06-.94-.94-2.06-.94 2.06-2.06.94z\"/><path d=\"M17.41 7.96l-1.37-1.37c-.4-.4-.92-.59-1.43-.59-.52 0-1.04.2-1.43.59L10.3 9.45l-7.72 7.72c-.78.78-.78 2.05 0 2.83L4 21.41c.39.39.9.59 1.41.59.51 0 1.02-.2 1.41-.59l7.78-7.78 2.81-2.81c.8-.78.8-2.07 0-2.86zM5.41 20L4 18.59l7.72-7.72 1.47 1.35L5.41 20z\"/>\n",
              "  </svg>\n",
              "      </button>\n",
              "      \n",
              "  <style>\n",
              "    .colab-df-container {\n",
              "      display:flex;\n",
              "      flex-wrap:wrap;\n",
              "      gap: 12px;\n",
              "    }\n",
              "\n",
              "    .colab-df-convert {\n",
              "      background-color: #E8F0FE;\n",
              "      border: none;\n",
              "      border-radius: 50%;\n",
              "      cursor: pointer;\n",
              "      display: none;\n",
              "      fill: #1967D2;\n",
              "      height: 32px;\n",
              "      padding: 0 0 0 0;\n",
              "      width: 32px;\n",
              "    }\n",
              "\n",
              "    .colab-df-convert:hover {\n",
              "      background-color: #E2EBFA;\n",
              "      box-shadow: 0px 1px 2px rgba(60, 64, 67, 0.3), 0px 1px 3px 1px rgba(60, 64, 67, 0.15);\n",
              "      fill: #174EA6;\n",
              "    }\n",
              "\n",
              "    [theme=dark] .colab-df-convert {\n",
              "      background-color: #3B4455;\n",
              "      fill: #D2E3FC;\n",
              "    }\n",
              "\n",
              "    [theme=dark] .colab-df-convert:hover {\n",
              "      background-color: #434B5C;\n",
              "      box-shadow: 0px 1px 3px 1px rgba(0, 0, 0, 0.15);\n",
              "      filter: drop-shadow(0px 1px 2px rgba(0, 0, 0, 0.3));\n",
              "      fill: #FFFFFF;\n",
              "    }\n",
              "  </style>\n",
              "\n",
              "      <script>\n",
              "        const buttonEl =\n",
              "          document.querySelector('#df-42cda57c-0a12-4317-bdb1-58177c0ebe04 button.colab-df-convert');\n",
              "        buttonEl.style.display =\n",
              "          google.colab.kernel.accessAllowed ? 'block' : 'none';\n",
              "\n",
              "        async function convertToInteractive(key) {\n",
              "          const element = document.querySelector('#df-42cda57c-0a12-4317-bdb1-58177c0ebe04');\n",
              "          const dataTable =\n",
              "            await google.colab.kernel.invokeFunction('convertToInteractive',\n",
              "                                                     [key], {});\n",
              "          if (!dataTable) return;\n",
              "\n",
              "          const docLinkHtml = 'Like what you see? Visit the ' +\n",
              "            '<a target=\"_blank\" href=https://colab.research.google.com/notebooks/data_table.ipynb>data table notebook</a>'\n",
              "            + ' to learn more about interactive tables.';\n",
              "          element.innerHTML = '';\n",
              "          dataTable['output_type'] = 'display_data';\n",
              "          await google.colab.output.renderOutput(dataTable, element);\n",
              "          const docLink = document.createElement('div');\n",
              "          docLink.innerHTML = docLinkHtml;\n",
              "          element.appendChild(docLink);\n",
              "        }\n",
              "      </script>\n",
              "    </div>\n",
              "  </div>\n",
              "  "
            ]
          },
          "metadata": {},
          "execution_count": 191
        }
      ]
    }
  ]
}